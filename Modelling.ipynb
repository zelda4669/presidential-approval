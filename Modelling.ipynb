{
 "cells": [
  {
   "cell_type": "code",
   "execution_count": 1,
   "id": "09a1b773",
   "metadata": {},
   "outputs": [],
   "source": [
    "import pandas as pd\n",
    "import numpy as np\n",
    "import matplotlib.pyplot as plt\n",
    "import seaborn as sns\n",
    "%matplotlib inline\n",
    "\n",
    "import re\n",
    "import nltk\n",
    "from nltk.corpus import stopwords\n",
    "from nltk.stem import WordNetLemmatizer\n",
    "from nltk.tokenize import RegexpTokenizer\n",
    "\n",
    "from sklearn.model_selection import train_test_split\n",
    "from sklearn.feature_extraction.text import TfidfVectorizer\n",
    "\n",
    "from sklearn.pipeline import Pipeline\n",
    "from sklearn.preprocessing import StandardScaler\n",
    "from sklearn.metrics import mean_squared_error, r2_score\n",
    "from sklearn.decomposition import PCA\n",
    "from sklearn.cluster import KMeans\n",
    "\n",
    "from sklearn.linear_model import LinearRegression\n",
    "from sklearn.neighbors import KNeighborsRegressor\n",
    "from sklearn.ensemble import RandomForestRegressor\n",
    "from sklearn.tree import DecisionTreeRegressor\n",
    "from xgboost import XGBRegressor\n",
    "from catboost import CatBoostRegressor\n",
    "from sklearn.svm import SVR\n",
    "from sklearn.ensemble import GradientBoostingRegressor\n",
    "from sklearn.ensemble import AdaBoostRegressor\n",
    "\n",
    "import lightgbm as lgb\n",
    "\n",
    "from functions import all_models as m\n",
    "from functions import plot_importances\n",
    "\n",
    "import warnings\n",
    "warnings.filterwarnings(\"ignore\")"
   ]
  },
  {
   "cell_type": "code",
   "execution_count": 2,
   "id": "185fbc1f",
   "metadata": {},
   "outputs": [],
   "source": [
    "reddit = pd.read_csv('Data/reddit_data.csv', index_col=0)"
   ]
  },
  {
   "cell_type": "code",
   "execution_count": 3,
   "id": "983078bf",
   "metadata": {},
   "outputs": [
    {
     "data": {
      "text/html": [
       "<div>\n",
       "<style scoped>\n",
       "    .dataframe tbody tr th:only-of-type {\n",
       "        vertical-align: middle;\n",
       "    }\n",
       "\n",
       "    .dataframe tbody tr th {\n",
       "        vertical-align: top;\n",
       "    }\n",
       "\n",
       "    .dataframe thead th {\n",
       "        text-align: right;\n",
       "    }\n",
       "</style>\n",
       "<table border=\"1\" class=\"dataframe\">\n",
       "  <thead>\n",
       "    <tr style=\"text-align: right;\">\n",
       "      <th></th>\n",
       "      <th>author</th>\n",
       "      <th>body</th>\n",
       "      <th>created_utc</th>\n",
       "      <th>permalink</th>\n",
       "      <th>score</th>\n",
       "      <th>subreddit</th>\n",
       "      <th>total_awards_received</th>\n",
       "      <th>editable</th>\n",
       "      <th>Polarity</th>\n",
       "      <th>Subjectivity</th>\n",
       "      <th>Sentiment</th>\n",
       "      <th>date</th>\n",
       "      <th>target</th>\n",
       "    </tr>\n",
       "  </thead>\n",
       "  <tbody>\n",
       "    <tr>\n",
       "      <th>0</th>\n",
       "      <td>execdysfunction</td>\n",
       "      <td>Maybe. We need to be aiming higher</td>\n",
       "      <td>2021-04-03 19:41:59</td>\n",
       "      <td>/r/politics/comments/mj839d/schumer_senate_wil...</td>\n",
       "      <td>1</td>\n",
       "      <td>politics</td>\n",
       "      <td>0</td>\n",
       "      <td>NaN</td>\n",
       "      <td>0.250000</td>\n",
       "      <td>0.500000</td>\n",
       "      <td>Positive</td>\n",
       "      <td>4/3/2021</td>\n",
       "      <td>53.414394</td>\n",
       "    </tr>\n",
       "    <tr>\n",
       "      <th>1</th>\n",
       "      <td>yappledapple</td>\n",
       "      <td>I hadn't heard that one. I think the ones stil...</td>\n",
       "      <td>2021-04-03 19:41:59</td>\n",
       "      <td>/r/politics/comments/mjcrfb/schumer_says_senat...</td>\n",
       "      <td>1</td>\n",
       "      <td>politics</td>\n",
       "      <td>0</td>\n",
       "      <td>NaN</td>\n",
       "      <td>-0.166667</td>\n",
       "      <td>0.500000</td>\n",
       "      <td>Negative</td>\n",
       "      <td>4/3/2021</td>\n",
       "      <td>53.414394</td>\n",
       "    </tr>\n",
       "    <tr>\n",
       "      <th>2</th>\n",
       "      <td>Tots4trump</td>\n",
       "      <td>“The statue was presented to the British as a ...</td>\n",
       "      <td>2021-04-03 19:41:56</td>\n",
       "      <td>/r/politics/comments/mjczhl/confederate_symbol...</td>\n",
       "      <td>1</td>\n",
       "      <td>politics</td>\n",
       "      <td>0</td>\n",
       "      <td>NaN</td>\n",
       "      <td>0.295000</td>\n",
       "      <td>0.430000</td>\n",
       "      <td>Positive</td>\n",
       "      <td>4/3/2021</td>\n",
       "      <td>53.414394</td>\n",
       "    </tr>\n",
       "    <tr>\n",
       "      <th>3</th>\n",
       "      <td>DroopyMcCool</td>\n",
       "      <td>Is this something that is in the DOI's purview...</td>\n",
       "      <td>2021-04-03 19:41:55</td>\n",
       "      <td>/r/politics/comments/mj6klw/secretary_deb_haal...</td>\n",
       "      <td>1</td>\n",
       "      <td>politics</td>\n",
       "      <td>0</td>\n",
       "      <td>NaN</td>\n",
       "      <td>0.068182</td>\n",
       "      <td>0.227273</td>\n",
       "      <td>Positive</td>\n",
       "      <td>4/3/2021</td>\n",
       "      <td>53.414394</td>\n",
       "    </tr>\n",
       "    <tr>\n",
       "      <th>4</th>\n",
       "      <td>FlyingRock</td>\n",
       "      <td>New York legalizing is definitely why it's bei...</td>\n",
       "      <td>2021-04-03 19:41:55</td>\n",
       "      <td>/r/politics/comments/mj839d/schumer_senate_wil...</td>\n",
       "      <td>1</td>\n",
       "      <td>politics</td>\n",
       "      <td>0</td>\n",
       "      <td>NaN</td>\n",
       "      <td>0.033939</td>\n",
       "      <td>0.517576</td>\n",
       "      <td>Positive</td>\n",
       "      <td>4/3/2021</td>\n",
       "      <td>53.414394</td>\n",
       "    </tr>\n",
       "  </tbody>\n",
       "</table>\n",
       "</div>"
      ],
      "text/plain": [
       "            author                                               body  \\\n",
       "0  execdysfunction                 Maybe. We need to be aiming higher   \n",
       "1     yappledapple  I hadn't heard that one. I think the ones stil...   \n",
       "2       Tots4trump  “The statue was presented to the British as a ...   \n",
       "3     DroopyMcCool  Is this something that is in the DOI's purview...   \n",
       "4       FlyingRock  New York legalizing is definitely why it's bei...   \n",
       "\n",
       "           created_utc                                          permalink  \\\n",
       "0  2021-04-03 19:41:59  /r/politics/comments/mj839d/schumer_senate_wil...   \n",
       "1  2021-04-03 19:41:59  /r/politics/comments/mjcrfb/schumer_says_senat...   \n",
       "2  2021-04-03 19:41:56  /r/politics/comments/mjczhl/confederate_symbol...   \n",
       "3  2021-04-03 19:41:55  /r/politics/comments/mj6klw/secretary_deb_haal...   \n",
       "4  2021-04-03 19:41:55  /r/politics/comments/mj839d/schumer_senate_wil...   \n",
       "\n",
       "   score subreddit  total_awards_received  editable  Polarity  Subjectivity  \\\n",
       "0      1  politics                      0       NaN  0.250000      0.500000   \n",
       "1      1  politics                      0       NaN -0.166667      0.500000   \n",
       "2      1  politics                      0       NaN  0.295000      0.430000   \n",
       "3      1  politics                      0       NaN  0.068182      0.227273   \n",
       "4      1  politics                      0       NaN  0.033939      0.517576   \n",
       "\n",
       "  Sentiment      date     target  \n",
       "0  Positive  4/3/2021  53.414394  \n",
       "1  Negative  4/3/2021  53.414394  \n",
       "2  Positive  4/3/2021  53.414394  \n",
       "3  Positive  4/3/2021  53.414394  \n",
       "4  Positive  4/3/2021  53.414394  "
      ]
     },
     "execution_count": 3,
     "metadata": {},
     "output_type": "execute_result"
    }
   ],
   "source": [
    "reddit.head()"
   ]
  },
  {
   "cell_type": "code",
   "execution_count": 4,
   "id": "cce5ca3e",
   "metadata": {},
   "outputs": [],
   "source": [
    "reddit.drop(columns=['author', 'permalink', 'created_utc', 'Sentiment', \n",
    "                     'date', 'editable', 'total_awards_received'], inplace=True)"
   ]
  },
  {
   "cell_type": "code",
   "execution_count": 5,
   "id": "86da4cef",
   "metadata": {},
   "outputs": [],
   "source": [
    "stop_words = stopwords.words('english')\n",
    "\n",
    "def process(text):\n",
    "    \n",
    "    lemmatizer = WordNetLemmatizer()\n",
    "    tokenizer = RegexpTokenizer(r'[a-zA-Z0-9]+')\n",
    "    \n",
    "    text = text.lower() #convert to lowercase\n",
    "    text = tokenizer.tokenize(text) #tokenize\n",
    "    text = [word for word in text if word not in stop_words] #remove stopwords\n",
    "    text = [lemmatizer.lemmatize(word) for word in text] #lemmatize\n",
    "    text = ' '.join(text) #convert list of words back to a string\n",
    "    return text"
   ]
  },
  {
   "cell_type": "code",
   "execution_count": 6,
   "id": "d305f208",
   "metadata": {},
   "outputs": [],
   "source": [
    "left = reddit.loc[reddit['subreddit'] == 'democrats']\n",
    "right = reddit.loc[reddit['subreddit'] == 'Conservative']"
   ]
  },
  {
   "cell_type": "code",
   "execution_count": 7,
   "id": "ed1ad452",
   "metadata": {},
   "outputs": [],
   "source": [
    "x = reddit.drop(columns=['target'])\n",
    "y = reddit['target']"
   ]
  },
  {
   "cell_type": "code",
   "execution_count": 8,
   "id": "1ea49b38",
   "metadata": {},
   "outputs": [],
   "source": [
    "x_train, x_test, y_train, y_test = train_test_split(x, y, random_state=16)"
   ]
  },
  {
   "cell_type": "code",
   "execution_count": 9,
   "id": "d3dbac60",
   "metadata": {},
   "outputs": [],
   "source": [
    "x_train_text = x_train['body'].apply(process)\n",
    "x_test_text = x_test['body'].apply(process)"
   ]
  },
  {
   "cell_type": "code",
   "execution_count": 10,
   "id": "59f7a4f1",
   "metadata": {},
   "outputs": [],
   "source": [
    "vectorizer = TfidfVectorizer(stop_words=stop_words, token_pattern='[a-zA-Z0-9]+', max_features=1000)\n",
    "x_train_text = vectorizer.fit_transform(x_train_text)\n",
    "x_test_text = vectorizer.transform(x_test_text)"
   ]
  },
  {
   "cell_type": "code",
   "execution_count": 11,
   "id": "89cddba4",
   "metadata": {},
   "outputs": [],
   "source": [
    "x_train_text_df = pd.DataFrame(x_train_text.todense(), columns = vectorizer.get_feature_names())\n",
    "x_test_text_df = pd.DataFrame(x_test_text.todense(), columns = vectorizer.get_feature_names())"
   ]
  },
  {
   "cell_type": "code",
   "execution_count": 12,
   "id": "776db5a6",
   "metadata": {},
   "outputs": [],
   "source": [
    "x_train.drop(columns=['body'], inplace=True)\n",
    "x_train = pd.get_dummies(x_train)\n",
    "x_train_text_df.set_index(x_train.index, inplace=True)\n",
    "x_train = pd.concat([x_train, x_train_text_df], axis=1).reindex(x_train.index)\n",
    "\n",
    "x_test.drop(columns=['body'], inplace=True)\n",
    "x_test = pd.get_dummies(x_test)\n",
    "x_test_text_df.set_index(x_test.index, inplace=True)\n",
    "x_test = pd.concat([x_test, x_test_text_df], axis=1).reindex(x_test.index)"
   ]
  },
  {
   "cell_type": "code",
   "execution_count": 13,
   "id": "ea54777d",
   "metadata": {},
   "outputs": [],
   "source": [
    "objects = [LinearRegression(), \n",
    "           Pipeline([('ss', StandardScaler(with_mean=False)), ('knn', KNeighborsRegressor())]),\n",
    "           DecisionTreeRegressor(), \n",
    "           RandomForestRegressor(),\n",
    "           XGBRegressor(),\n",
    "           CatBoostRegressor(verbose=False),\n",
    "          lgb.LGBMRegressor()]\n",
    "index = ['Linear Regression', 'Nearest Neighbors', 'Decision Tree', 'Random Forest', 'XGBoost', 'CatBoost', 'LightGBM']"
   ]
  },
  {
   "cell_type": "code",
   "execution_count": null,
   "id": "aa0b5815",
   "metadata": {
    "scrolled": false
   },
   "outputs": [
    {
     "name": "stdout",
     "output_type": "stream",
     "text": [
      "Linear Regression model fit...\n",
      "Nearest Neighbors model fit...\n",
      "Decision Tree model fit...\n"
     ]
    }
   ],
   "source": [
    "models = m(x_train, x_test, y_train, y_test, objects=objects, index=index)"
   ]
  },
  {
   "cell_type": "code",
   "execution_count": null,
   "id": "1d3a368c",
   "metadata": {},
   "outputs": [],
   "source": [
    "rmse = [2.1599, 2.3602, 2.8219, 2.2079, 2.1532, 2.1479, 2.1483]\n",
    "rsquared = [.0334, -.1542, -.65, -.0101, .0394, .0441, .0437]\n",
    "\n",
    "metrics = pd.DataFrame(np.array([rmse, rsquared]).T, index = index, columns = ['RMSE', 'R-Squared'])\n",
    "display(metrics)"
   ]
  },
  {
   "cell_type": "code",
   "execution_count": null,
   "id": "57c125b7",
   "metadata": {},
   "outputs": [],
   "source": [
    "importances = sorted(list(zip(models[2].feature_importances_, vectorizer.get_feature_names())))[-20:]\n",
    "plot = pd.DataFrame(importances, columns=['Importance', 'Feature'])\n",
    "\n",
    "fig, ax = plt.subplots(figsize=(15, 8))\n",
    "sns.barplot(data=plot, y='Feature', x='Importance')\n",
    "ax.set_title('Decision Tree Feature Importances')\n",
    "plt.show();"
   ]
  },
  {
   "cell_type": "code",
   "execution_count": null,
   "id": "c49b59b0",
   "metadata": {},
   "outputs": [],
   "source": [
    "importances = sorted(list(zip(models[3].feature_importances_, vectorizer.get_feature_names())))[-20:]\n",
    "plot = pd.DataFrame(importances, columns=['Importance', 'Feature'])\n",
    "\n",
    "fig, ax = plt.subplots(figsize=(15, 8))\n",
    "sns.barplot(data=plot, y='Feature', x='Importance')\n",
    "ax.set_title('Random Forest Feature Importances')\n",
    "plt.show();"
   ]
  },
  {
   "cell_type": "code",
   "execution_count": null,
   "id": "6aad7ec3",
   "metadata": {},
   "outputs": [],
   "source": [
    "importances = sorted(list(zip(models[4].feature_importances_, vectorizer.get_feature_names())))[-20:]\n",
    "plot = pd.DataFrame(importances, columns=['Importance', 'Feature'])\n",
    "\n",
    "fig, ax = plt.subplots(figsize=(15, 8))\n",
    "sns.barplot(data=plot, y='Feature', x='Importance')\n",
    "ax.set_title('XGBoost Feature Importances')\n",
    "plt.show();"
   ]
  },
  {
   "cell_type": "code",
   "execution_count": null,
   "id": "0ff8310d",
   "metadata": {},
   "outputs": [],
   "source": [
    "importances = sorted(list(zip(models[5].feature_importances_, vectorizer.get_feature_names())))[-20:]\n",
    "plot = pd.DataFrame(importances, columns=['Importance', 'Feature'])\n",
    "\n",
    "fig, ax = plt.subplots(figsize=(15, 8))\n",
    "sns.barplot(data=plot, y='Feature', x='Importance')\n",
    "ax.set_title('Cat Boost Feature Importances')\n",
    "plt.show();"
   ]
  },
  {
   "cell_type": "code",
   "execution_count": null,
   "id": "8da0cc4f",
   "metadata": {},
   "outputs": [],
   "source": [
    "importances = sorted(list(zip(models[6].feature_importances_, vectorizer.get_feature_names())))[-20:]\n",
    "plot = pd.DataFrame(importances, columns=['Importance', 'Feature'])\n",
    "\n",
    "fig, ax = plt.subplots(figsize=(15, 8))\n",
    "sns.barplot(data=plot, y='Feature', x='Importance')\n",
    "ax.set_title('LightGBM Feature Importances')\n",
    "plt.show();"
   ]
  },
  {
   "cell_type": "markdown",
   "id": "84f3e638",
   "metadata": {},
   "source": [
    "## PCA"
   ]
  },
  {
   "cell_type": "code",
   "execution_count": null,
   "id": "b214d017",
   "metadata": {},
   "outputs": [],
   "source": [
    "pca = PCA(n_components=20)\n",
    "x_train_pca = pca.fit_transform(x_train)\n",
    "x_test_pca = pca.transform(x_test)"
   ]
  },
  {
   "cell_type": "code",
   "execution_count": null,
   "id": "62394e1f",
   "metadata": {},
   "outputs": [],
   "source": [
    "pca_model = lgb.LGBMRegressor()\n",
    "pca_model.fit(x_train_pca, y_train)"
   ]
  },
  {
   "cell_type": "code",
   "execution_count": null,
   "id": "a885e810",
   "metadata": {},
   "outputs": [],
   "source": [
    "prediction = pca_model.predict(x_test_pca)\n",
    "rmse = mean_squared_error(y_test, prediction, squared=False)\n",
    "rsquared = r2_score(y_test, prediction)\n",
    "\n",
    "print(f'R-Squared: {rsquared} \\nRMSE: {rmse}')"
   ]
  },
  {
   "cell_type": "code",
   "execution_count": null,
   "id": "996ed0a9",
   "metadata": {},
   "outputs": [],
   "source": [
    "importances = sorted(list(zip(pca_model.feature_importances_, vectorizer.get_feature_names())))[-20:]\n",
    "plot = pd.DataFrame(importances, columns=['Importance', 'Feature'])\n",
    "\n",
    "fig, ax = plt.subplots(figsize=(15, 8))\n",
    "sns.barplot(data=plot, y='Feature', x='Importance')\n",
    "ax.set_title('LightGBM Feature Importances')\n",
    "plt.show();"
   ]
  },
  {
   "cell_type": "code",
   "execution_count": null,
   "id": "43963831",
   "metadata": {},
   "outputs": [],
   "source": [
    "pca_models = m(x_train_pca, x_test_pca, y_train, y_test, objects=objects, index=index)"
   ]
  },
  {
   "cell_type": "code",
   "execution_count": null,
   "id": "0304c8ed",
   "metadata": {},
   "outputs": [],
   "source": [
    "fig, ax = plt.subplots(figsize=(15, 8))\n",
    "sns.scatterplot(x=y_test, y=prediction)\n",
    "ax.set_xlabel('Actual Approval Rating')\n",
    "ax.set_ylabel('Predicted Approval Rating')\n",
    "ax.set_title('Actual vs Predicted Approval Ratings');"
   ]
  },
  {
   "cell_type": "code",
   "execution_count": null,
   "id": "49b01bf4",
   "metadata": {},
   "outputs": [],
   "source": [
    "cluster = KMeans()\n",
    "x_train_cluster = cluster.fit_transform(x_train)\n",
    "x_test_cluster = cluster.transform(x_test)"
   ]
  },
  {
   "cell_type": "code",
   "execution_count": null,
   "id": "7065e66f",
   "metadata": {},
   "outputs": [],
   "source": [
    "cluster_models = m(x_train_cluster, x_test_cluster, y_train, y_test, objects=objects, index=index)"
   ]
  },
  {
   "cell_type": "markdown",
   "id": "4d35c1cc",
   "metadata": {},
   "source": [
    "# Model by Viewpoint -- Left"
   ]
  },
  {
   "cell_type": "code",
   "execution_count": null,
   "id": "c85d2d20",
   "metadata": {},
   "outputs": [],
   "source": [
    "x = left.drop(columns=['target'])\n",
    "y = left['target']"
   ]
  },
  {
   "cell_type": "code",
   "execution_count": null,
   "id": "6c7f1685",
   "metadata": {},
   "outputs": [],
   "source": [
    "x_train, x_test, y_train, y_test = train_test_split(x, y, random_state=16)"
   ]
  },
  {
   "cell_type": "code",
   "execution_count": null,
   "id": "4c56b88b",
   "metadata": {},
   "outputs": [],
   "source": [
    "x_train_text = x_train['body'].apply(process)\n",
    "x_test_text = x_test['body'].apply(process)"
   ]
  },
  {
   "cell_type": "code",
   "execution_count": null,
   "id": "4fe6cde1",
   "metadata": {},
   "outputs": [],
   "source": [
    "vectorizer = TfidfVectorizer(stop_words=stop_words, token_pattern='[a-zA-Z0-9]+', max_features=1000)\n",
    "x_train_text = vectorizer.fit_transform(x_train_text)\n",
    "x_test_text = vectorizer.transform(x_test_text)"
   ]
  },
  {
   "cell_type": "code",
   "execution_count": null,
   "id": "cd47d50d",
   "metadata": {},
   "outputs": [],
   "source": [
    "x_train_text_df = pd.DataFrame(x_train_text.todense(), columns = vectorizer.get_feature_names())\n",
    "x_test_text_df = pd.DataFrame(x_test_text.todense(), columns = vectorizer.get_feature_names())"
   ]
  },
  {
   "cell_type": "code",
   "execution_count": null,
   "id": "358c119e",
   "metadata": {},
   "outputs": [],
   "source": [
    "x_train.drop(columns=['body'], inplace=True)\n",
    "x_train = pd.get_dummies(x_train)\n",
    "x_train_text_df.set_index(x_train.index, inplace=True)\n",
    "x_train = pd.concat([x_train, x_train_text_df], axis=1).reindex(x_train.index)\n",
    "\n",
    "x_test.drop(columns=['body'], inplace=True)\n",
    "x_test = pd.get_dummies(x_test)\n",
    "x_test_text_df.set_index(x_test.index, inplace=True)\n",
    "x_test = pd.concat([x_test, x_test_text_df], axis=1).reindex(x_test.index)"
   ]
  },
  {
   "cell_type": "code",
   "execution_count": null,
   "id": "fe621451",
   "metadata": {},
   "outputs": [],
   "source": [
    "lightgbm = lgb.LGBMRegressor()\n",
    "lightgbm.fit(x_train, y_train)"
   ]
  },
  {
   "cell_type": "code",
   "execution_count": null,
   "id": "897c74c3",
   "metadata": {},
   "outputs": [],
   "source": [
    "prediction = lightgbm.predict(x_test)\n",
    "rmse = mean_squared_error(y_test, prediction, squared=False)\n",
    "rsquared = r2_score(y_test, prediction)\n",
    "\n",
    "print(f'R-Squared: {rsquared} \\nRMSE: {rmse}')"
   ]
  },
  {
   "cell_type": "code",
   "execution_count": null,
   "id": "7d67e578",
   "metadata": {},
   "outputs": [],
   "source": [
    "fig, ax = plt.subplots(figsize=(15, 8))\n",
    "sns.scatterplot(x=y_test, y=prediction)\n",
    "ax.set_xlabel('Actual Approval Rating')\n",
    "ax.set_ylabel('Predicted Approval Rating')\n",
    "ax.set_title('Actual vs Predicted Approval Ratings');"
   ]
  },
  {
   "cell_type": "markdown",
   "id": "10d25e7f",
   "metadata": {},
   "source": [
    "# Model by Viewpoint - Right"
   ]
  },
  {
   "cell_type": "code",
   "execution_count": null,
   "id": "1a0ea0ec",
   "metadata": {},
   "outputs": [],
   "source": [
    "x = right.drop(columns=['target'])\n",
    "y = right['target']"
   ]
  },
  {
   "cell_type": "code",
   "execution_count": null,
   "id": "6ed695dc",
   "metadata": {},
   "outputs": [],
   "source": [
    "x_train, x_test, y_train, y_test = train_test_split(x, y, random_state=16)"
   ]
  },
  {
   "cell_type": "code",
   "execution_count": null,
   "id": "3e913eca",
   "metadata": {},
   "outputs": [],
   "source": [
    "x_train_text = x_train['body'].apply(process)\n",
    "x_test_text = x_test['body'].apply(process)"
   ]
  },
  {
   "cell_type": "code",
   "execution_count": null,
   "id": "c799a3df",
   "metadata": {},
   "outputs": [],
   "source": [
    "vectorizer = TfidfVectorizer(stop_words=stop_words, token_pattern='[a-zA-Z0-9]+', max_features=1000)\n",
    "x_train_text = vectorizer.fit_transform(x_train_text)\n",
    "x_test_text = vectorizer.transform(x_test_text)"
   ]
  },
  {
   "cell_type": "code",
   "execution_count": null,
   "id": "29f6d0db",
   "metadata": {},
   "outputs": [],
   "source": [
    "x_train_text_df = pd.DataFrame(x_train_text.todense(), columns = vectorizer.get_feature_names())\n",
    "x_test_text_df = pd.DataFrame(x_test_text.todense(), columns = vectorizer.get_feature_names())"
   ]
  },
  {
   "cell_type": "code",
   "execution_count": null,
   "id": "a1b6e99c",
   "metadata": {},
   "outputs": [],
   "source": [
    "x_train.drop(columns=['body'], inplace=True)\n",
    "x_train = pd.get_dummies(x_train)\n",
    "x_train_text_df.set_index(x_train.index, inplace=True)\n",
    "x_train = pd.concat([x_train, x_train_text_df], axis=1).reindex(x_train.index)\n",
    "\n",
    "x_test.drop(columns=['body'], inplace=True)\n",
    "x_test = pd.get_dummies(x_test)\n",
    "x_test_text_df.set_index(x_test.index, inplace=True)\n",
    "x_test = pd.concat([x_test, x_test_text_df], axis=1).reindex(x_test.index)"
   ]
  },
  {
   "cell_type": "code",
   "execution_count": null,
   "id": "122260ec",
   "metadata": {},
   "outputs": [],
   "source": [
    "lightgbm = lgb.LGBMRegressor()\n",
    "lightgbm.fit(x_train, y_train)"
   ]
  },
  {
   "cell_type": "code",
   "execution_count": null,
   "id": "6d68f8d6",
   "metadata": {},
   "outputs": [],
   "source": [
    "prediction = lightgbm.predict(x_test)\n",
    "rmse = mean_squared_error(y_test, prediction, squared=False)\n",
    "rsquared = r2_score(y_test, prediction)\n",
    "\n",
    "print(f'R-Squared: {rsquared} \\nRMSE: {rmse}')"
   ]
  },
  {
   "cell_type": "code",
   "execution_count": null,
   "id": "d456c5d5",
   "metadata": {},
   "outputs": [],
   "source": [
    "fig, ax = plt.subplots(figsize=(15, 8))\n",
    "sns.scatterplot(x=y_test, y=prediction)\n",
    "ax.set_xlabel('Actual Approval Rating')\n",
    "ax.set_ylabel('Predicted Approval Rating')\n",
    "ax.set_title('Actual vs Predicted Approval Ratings');"
   ]
  },
  {
   "cell_type": "code",
   "execution_count": null,
   "id": "3d11bd20",
   "metadata": {},
   "outputs": [],
   "source": []
  }
 ],
 "metadata": {
  "kernelspec": {
   "display_name": "Python 3",
   "language": "python",
   "name": "python3"
  },
  "language_info": {
   "codemirror_mode": {
    "name": "ipython",
    "version": 3
   },
   "file_extension": ".py",
   "mimetype": "text/x-python",
   "name": "python",
   "nbconvert_exporter": "python",
   "pygments_lexer": "ipython3",
   "version": "3.8.8"
  }
 },
 "nbformat": 4,
 "nbformat_minor": 5
}
