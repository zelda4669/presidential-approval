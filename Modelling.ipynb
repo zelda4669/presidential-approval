{
 "cells": [
  {
   "cell_type": "code",
   "execution_count": 32,
   "id": "09a1b773",
   "metadata": {},
   "outputs": [],
   "source": [
    "import pandas as pd\n",
    "import numpy as np\n",
    "import matplotlib.pyplot as plt\n",
    "import seaborn as sns\n",
    "%matplotlib inline\n",
    "\n",
    "import re\n",
    "import nltk\n",
    "from nltk.corpus import stopwords\n",
    "from nltk.stem import WordNetLemmatizer\n",
    "from nltk.tokenize import RegexpTokenizer\n",
    "\n",
    "from sklearn.model_selection import train_test_split\n",
    "from sklearn.feature_extraction.text import TfidfVectorizer\n",
    "\n",
    "from sklearn.pipeline import Pipeline\n",
    "from sklearn.preprocessing import StandardScaler\n",
    "from sklearn.metrics import mean_squared_error, r2_score\n",
    "\n",
    "from sklearn.linear_model import LinearRegression\n",
    "from sklearn.neighbors import KNeighborsRegressor\n",
    "from sklearn.ensemble import RandomForestRegressor\n",
    "from sklearn.tree import DecisionTreeRegressor\n",
    "from xgboost import XGBRegressor\n",
    "from catboost import CatBoostRegressor\n",
    "from sklearn.svm import SVR\n",
    "from sklearn.ensemble import GradientBoostingRegressor\n",
    "from sklearn.ensemble import AdaBoostRegressor\n",
    "\n",
    "import lightgbm as lgb\n",
    "\n",
    "from functions import all_models as m\n",
    "from functions import plot_importances\n",
    "\n",
    "import warnings\n",
    "warnings.filterwarnings(\"ignore\")"
   ]
  },
  {
   "cell_type": "code",
   "execution_count": 2,
   "id": "185fbc1f",
   "metadata": {},
   "outputs": [],
   "source": [
    "reddit = pd.read_csv('Data/reddit_data.csv', index_col=0)"
   ]
  },
  {
   "cell_type": "code",
   "execution_count": 3,
   "id": "983078bf",
   "metadata": {},
   "outputs": [
    {
     "data": {
      "text/html": [
       "<div>\n",
       "<style scoped>\n",
       "    .dataframe tbody tr th:only-of-type {\n",
       "        vertical-align: middle;\n",
       "    }\n",
       "\n",
       "    .dataframe tbody tr th {\n",
       "        vertical-align: top;\n",
       "    }\n",
       "\n",
       "    .dataframe thead th {\n",
       "        text-align: right;\n",
       "    }\n",
       "</style>\n",
       "<table border=\"1\" class=\"dataframe\">\n",
       "  <thead>\n",
       "    <tr style=\"text-align: right;\">\n",
       "      <th></th>\n",
       "      <th>author</th>\n",
       "      <th>body</th>\n",
       "      <th>created_utc</th>\n",
       "      <th>permalink</th>\n",
       "      <th>score</th>\n",
       "      <th>subreddit</th>\n",
       "      <th>total_awards_received</th>\n",
       "      <th>Polarity</th>\n",
       "      <th>Subjectivity</th>\n",
       "      <th>Sentiment</th>\n",
       "      <th>date</th>\n",
       "      <th>target</th>\n",
       "    </tr>\n",
       "  </thead>\n",
       "  <tbody>\n",
       "    <tr>\n",
       "      <th>0</th>\n",
       "      <td>Flip2428</td>\n",
       "      <td>Growing up there I was always dumbfounded on h...</td>\n",
       "      <td>2021-04-01 17:17:58</td>\n",
       "      <td>/r/politics/comments/mhy1zm/new_mexico_is_set_...</td>\n",
       "      <td>1</td>\n",
       "      <td>politics</td>\n",
       "      <td>0</td>\n",
       "      <td>-0.051389</td>\n",
       "      <td>0.368056</td>\n",
       "      <td>Negative</td>\n",
       "      <td>4/1/2021</td>\n",
       "      <td>53.43079</td>\n",
       "    </tr>\n",
       "    <tr>\n",
       "      <th>1</th>\n",
       "      <td>boatpile</td>\n",
       "      <td>Gaetz didn't even say \"no age you can't be sex...</td>\n",
       "      <td>2021-04-01 17:17:58</td>\n",
       "      <td>/r/politics/comments/mhuv7u/theres_no_age_that...</td>\n",
       "      <td>1</td>\n",
       "      <td>politics</td>\n",
       "      <td>0</td>\n",
       "      <td>0.412500</td>\n",
       "      <td>0.820833</td>\n",
       "      <td>Positive</td>\n",
       "      <td>4/1/2021</td>\n",
       "      <td>53.43079</td>\n",
       "    </tr>\n",
       "    <tr>\n",
       "      <th>2</th>\n",
       "      <td>theombudsmen</td>\n",
       "      <td>I'm sure everyone knows this, but to clarify t...</td>\n",
       "      <td>2021-04-01 17:17:56</td>\n",
       "      <td>/r/politics/comments/mhzm4r/the_gop_rightly_fe...</td>\n",
       "      <td>1</td>\n",
       "      <td>politics</td>\n",
       "      <td>0</td>\n",
       "      <td>0.100000</td>\n",
       "      <td>0.853472</td>\n",
       "      <td>Positive</td>\n",
       "      <td>4/1/2021</td>\n",
       "      <td>53.43079</td>\n",
       "    </tr>\n",
       "    <tr>\n",
       "      <th>3</th>\n",
       "      <td>Tony_Chu</td>\n",
       "      <td>Hang up decorations with zip ties and cheer th...</td>\n",
       "      <td>2021-04-01 17:17:54</td>\n",
       "      <td>/r/politics/comments/mhulza/biden_must_clean_u...</td>\n",
       "      <td>1</td>\n",
       "      <td>politics</td>\n",
       "      <td>0</td>\n",
       "      <td>0.000000</td>\n",
       "      <td>0.000000</td>\n",
       "      <td>Neutral</td>\n",
       "      <td>4/1/2021</td>\n",
       "      <td>53.43079</td>\n",
       "    </tr>\n",
       "    <tr>\n",
       "      <th>4</th>\n",
       "      <td>Fellums2</td>\n",
       "      <td>Aside from the fact that he is just awful, he ...</td>\n",
       "      <td>2021-04-01 17:17:53</td>\n",
       "      <td>/r/politics/comments/mhmik7/ap_poll_finds_bide...</td>\n",
       "      <td>1</td>\n",
       "      <td>politics</td>\n",
       "      <td>0</td>\n",
       "      <td>-0.284821</td>\n",
       "      <td>0.735714</td>\n",
       "      <td>Negative</td>\n",
       "      <td>4/1/2021</td>\n",
       "      <td>53.43079</td>\n",
       "    </tr>\n",
       "  </tbody>\n",
       "</table>\n",
       "</div>"
      ],
      "text/plain": [
       "         author                                               body  \\\n",
       "0      Flip2428  Growing up there I was always dumbfounded on h...   \n",
       "1      boatpile  Gaetz didn't even say \"no age you can't be sex...   \n",
       "2  theombudsmen  I'm sure everyone knows this, but to clarify t...   \n",
       "3      Tony_Chu  Hang up decorations with zip ties and cheer th...   \n",
       "4      Fellums2  Aside from the fact that he is just awful, he ...   \n",
       "\n",
       "           created_utc                                          permalink  \\\n",
       "0  2021-04-01 17:17:58  /r/politics/comments/mhy1zm/new_mexico_is_set_...   \n",
       "1  2021-04-01 17:17:58  /r/politics/comments/mhuv7u/theres_no_age_that...   \n",
       "2  2021-04-01 17:17:56  /r/politics/comments/mhzm4r/the_gop_rightly_fe...   \n",
       "3  2021-04-01 17:17:54  /r/politics/comments/mhulza/biden_must_clean_u...   \n",
       "4  2021-04-01 17:17:53  /r/politics/comments/mhmik7/ap_poll_finds_bide...   \n",
       "\n",
       "   score subreddit  total_awards_received  Polarity  Subjectivity Sentiment  \\\n",
       "0      1  politics                      0 -0.051389      0.368056  Negative   \n",
       "1      1  politics                      0  0.412500      0.820833  Positive   \n",
       "2      1  politics                      0  0.100000      0.853472  Positive   \n",
       "3      1  politics                      0  0.000000      0.000000   Neutral   \n",
       "4      1  politics                      0 -0.284821      0.735714  Negative   \n",
       "\n",
       "       date    target  \n",
       "0  4/1/2021  53.43079  \n",
       "1  4/1/2021  53.43079  \n",
       "2  4/1/2021  53.43079  \n",
       "3  4/1/2021  53.43079  \n",
       "4  4/1/2021  53.43079  "
      ]
     },
     "execution_count": 3,
     "metadata": {},
     "output_type": "execute_result"
    }
   ],
   "source": [
    "reddit.head()"
   ]
  },
  {
   "cell_type": "code",
   "execution_count": 4,
   "id": "cce5ca3e",
   "metadata": {},
   "outputs": [],
   "source": [
    "reddit.drop(columns=['author', 'permalink', 'created_utc', 'Sentiment', 'date'], inplace=True)"
   ]
  },
  {
   "cell_type": "code",
   "execution_count": 5,
   "id": "86da4cef",
   "metadata": {},
   "outputs": [],
   "source": [
    "stop_words = stopwords.words('english')\n",
    "\n",
    "def process(text):\n",
    "    \n",
    "    lemmatizer = WordNetLemmatizer()\n",
    "    tokenizer = RegexpTokenizer(r'[a-zA-Z0-9]+')\n",
    "    \n",
    "    text = text.lower() #convert to lowercase\n",
    "    text = tokenizer.tokenize(text) #tokenize\n",
    "    text = [word for word in text if word not in stop_words] #remove stopwords\n",
    "    text = [lemmatizer.lemmatize(word) for word in text] #lemmatize\n",
    "    text = ' '.join(text) #convert list of words back to a string\n",
    "    return text"
   ]
  },
  {
   "cell_type": "code",
   "execution_count": 6,
   "id": "ed1ad452",
   "metadata": {},
   "outputs": [],
   "source": [
    "x = reddit.drop(columns=['target'])\n",
    "y = reddit['target']"
   ]
  },
  {
   "cell_type": "code",
   "execution_count": 7,
   "id": "1ea49b38",
   "metadata": {},
   "outputs": [],
   "source": [
    "x_train, x_test, y_train, y_test = train_test_split(x, y, random_state=16)"
   ]
  },
  {
   "cell_type": "code",
   "execution_count": 8,
   "id": "d3dbac60",
   "metadata": {},
   "outputs": [],
   "source": [
    "x_train_text = x_train['body'].apply(process)\n",
    "x_test_text = x_test['body'].apply(process)"
   ]
  },
  {
   "cell_type": "code",
   "execution_count": 9,
   "id": "59f7a4f1",
   "metadata": {},
   "outputs": [],
   "source": [
    "vectorizer = TfidfVectorizer(stop_words=stop_words, token_pattern='[a-zA-Z0-9]+', max_features=1000)\n",
    "x_train_text = vectorizer.fit_transform(x_train_text)\n",
    "x_test_text = vectorizer.transform(x_test_text)"
   ]
  },
  {
   "cell_type": "code",
   "execution_count": 10,
   "id": "89cddba4",
   "metadata": {},
   "outputs": [],
   "source": [
    "x_train_text_df = pd.DataFrame(x_train_text.todense(), columns = vectorizer.get_feature_names())\n",
    "x_test_text_df = pd.DataFrame(x_test_text.todense(), columns = vectorizer.get_feature_names())"
   ]
  },
  {
   "cell_type": "code",
   "execution_count": 11,
   "id": "776db5a6",
   "metadata": {},
   "outputs": [],
   "source": [
    "x_train.drop(columns=['body'], inplace=True)\n",
    "x_train = pd.get_dummies(x_train)\n",
    "x_train_text_df.set_index(x_train.index, inplace=True)\n",
    "x_train = pd.concat([x_train, x_train_text_df], axis=1).reindex(x_train.index)\n",
    "\n",
    "x_test.drop(columns=['body'], inplace=True)\n",
    "x_test = pd.get_dummies(x_test)\n",
    "x_test_text_df.set_index(x_test.index, inplace=True)\n",
    "x_test = pd.concat([x_test, x_test_text_df], axis=1).reindex(x_test.index)"
   ]
  },
  {
   "cell_type": "code",
   "execution_count": 23,
   "id": "ea54777d",
   "metadata": {},
   "outputs": [],
   "source": [
    "objects = [LinearRegression(), \n",
    "           Pipeline([('ss', StandardScaler(with_mean=False)), ('knn', KNeighborsRegressor())]),\n",
    "           DecisionTreeRegressor(), \n",
    "           RandomForestRegressor(),\n",
    "           XGBRegressor(),\n",
    "           CatBoostRegressor(verbose=False),\n",
    "          lgb.LGBMRegressor()]\n",
    "index = ['Linear Regression', 'Nearest Neighbors', 'Decision Tree', 'Random Forest', 'XGBoost', 'CatBoost', 'LightGBM']"
   ]
  },
  {
   "cell_type": "code",
   "execution_count": 13,
   "id": "aa0b5815",
   "metadata": {
    "scrolled": false
   },
   "outputs": [
    {
     "name": "stdout",
     "output_type": "stream",
     "text": [
      "Logistic Regression model fit...\n",
      "Nearest Neighbors model fit...\n",
      "Decision Tree model fit...\n",
      "Random Forest model fit...\n",
      "XGBoost model fit...\n",
      "CatBoost model fit...\n",
      "LightGBM model fit...\n"
     ]
    },
    {
     "data": {
      "text/html": [
       "<style  type=\"text/css\" >\n",
       "</style><table id=\"T_d137b_\" ><thead>    <tr>        <th class=\"blank level0\" ></th>        <th class=\"col_heading level0 col0\" >RMSE</th>        <th class=\"col_heading level0 col1\" >R-Squared</th>    </tr></thead><tbody>\n",
       "                <tr>\n",
       "                        <th id=\"T_d137b_level0_row0\" class=\"row_heading level0 row0\" >Logistic Regression</th>\n",
       "                        <td id=\"T_d137b_row0_col0\" class=\"data row0 col0\" >215.99%</td>\n",
       "                        <td id=\"T_d137b_row0_col1\" class=\"data row0 col1\" >3.34%</td>\n",
       "            </tr>\n",
       "            <tr>\n",
       "                        <th id=\"T_d137b_level0_row1\" class=\"row_heading level0 row1\" >Nearest Neighbors</th>\n",
       "                        <td id=\"T_d137b_row1_col0\" class=\"data row1 col0\" >236.02%</td>\n",
       "                        <td id=\"T_d137b_row1_col1\" class=\"data row1 col1\" >-15.42%</td>\n",
       "            </tr>\n",
       "            <tr>\n",
       "                        <th id=\"T_d137b_level0_row2\" class=\"row_heading level0 row2\" >Decision Tree</th>\n",
       "                        <td id=\"T_d137b_row2_col0\" class=\"data row2 col0\" >282.19%</td>\n",
       "                        <td id=\"T_d137b_row2_col1\" class=\"data row2 col1\" >-65.00%</td>\n",
       "            </tr>\n",
       "            <tr>\n",
       "                        <th id=\"T_d137b_level0_row3\" class=\"row_heading level0 row3\" >Random Forest</th>\n",
       "                        <td id=\"T_d137b_row3_col0\" class=\"data row3 col0\" >220.79%</td>\n",
       "                        <td id=\"T_d137b_row3_col1\" class=\"data row3 col1\" >-1.01%</td>\n",
       "            </tr>\n",
       "            <tr>\n",
       "                        <th id=\"T_d137b_level0_row4\" class=\"row_heading level0 row4\" >XGBoost</th>\n",
       "                        <td id=\"T_d137b_row4_col0\" class=\"data row4 col0\" >215.32%</td>\n",
       "                        <td id=\"T_d137b_row4_col1\" class=\"data row4 col1\" >3.94%</td>\n",
       "            </tr>\n",
       "            <tr>\n",
       "                        <th id=\"T_d137b_level0_row5\" class=\"row_heading level0 row5\" >CatBoost</th>\n",
       "                        <td id=\"T_d137b_row5_col0\" class=\"data row5 col0\" >214.79%</td>\n",
       "                        <td id=\"T_d137b_row5_col1\" class=\"data row5 col1\" >4.41%</td>\n",
       "            </tr>\n",
       "            <tr>\n",
       "                        <th id=\"T_d137b_level0_row6\" class=\"row_heading level0 row6\" >LightGBM</th>\n",
       "                        <td id=\"T_d137b_row6_col0\" class=\"data row6 col0\" >214.83%</td>\n",
       "                        <td id=\"T_d137b_row6_col1\" class=\"data row6 col1\" >4.37%</td>\n",
       "            </tr>\n",
       "    </tbody></table>"
      ],
      "text/plain": [
       "<pandas.io.formats.style.Styler at 0x14f2d13b970>"
      ]
     },
     "metadata": {},
     "output_type": "display_data"
    }
   ],
   "source": [
    "models = m(x_train_text, x_test_text, y_train, y_test, objects=objects, index=index)"
   ]
  },
  {
   "cell_type": "code",
   "execution_count": 24,
   "id": "1d3a368c",
   "metadata": {},
   "outputs": [
    {
     "data": {
      "text/html": [
       "<div>\n",
       "<style scoped>\n",
       "    .dataframe tbody tr th:only-of-type {\n",
       "        vertical-align: middle;\n",
       "    }\n",
       "\n",
       "    .dataframe tbody tr th {\n",
       "        vertical-align: top;\n",
       "    }\n",
       "\n",
       "    .dataframe thead th {\n",
       "        text-align: right;\n",
       "    }\n",
       "</style>\n",
       "<table border=\"1\" class=\"dataframe\">\n",
       "  <thead>\n",
       "    <tr style=\"text-align: right;\">\n",
       "      <th></th>\n",
       "      <th>RMSE</th>\n",
       "      <th>R-Squared</th>\n",
       "    </tr>\n",
       "  </thead>\n",
       "  <tbody>\n",
       "    <tr>\n",
       "      <th>Linear Regression</th>\n",
       "      <td>2.1599</td>\n",
       "      <td>0.0334</td>\n",
       "    </tr>\n",
       "    <tr>\n",
       "      <th>Nearest Neighbors</th>\n",
       "      <td>2.3602</td>\n",
       "      <td>-0.1542</td>\n",
       "    </tr>\n",
       "    <tr>\n",
       "      <th>Decision Tree</th>\n",
       "      <td>2.8219</td>\n",
       "      <td>-0.6500</td>\n",
       "    </tr>\n",
       "    <tr>\n",
       "      <th>Random Forest</th>\n",
       "      <td>2.2079</td>\n",
       "      <td>-0.0101</td>\n",
       "    </tr>\n",
       "    <tr>\n",
       "      <th>XGBoost</th>\n",
       "      <td>2.1532</td>\n",
       "      <td>0.0394</td>\n",
       "    </tr>\n",
       "    <tr>\n",
       "      <th>CatBoost</th>\n",
       "      <td>2.1479</td>\n",
       "      <td>0.0441</td>\n",
       "    </tr>\n",
       "    <tr>\n",
       "      <th>LightGBM</th>\n",
       "      <td>2.1483</td>\n",
       "      <td>0.0437</td>\n",
       "    </tr>\n",
       "  </tbody>\n",
       "</table>\n",
       "</div>"
      ],
      "text/plain": [
       "                     RMSE  R-Squared\n",
       "Linear Regression  2.1599     0.0334\n",
       "Nearest Neighbors  2.3602    -0.1542\n",
       "Decision Tree      2.8219    -0.6500\n",
       "Random Forest      2.2079    -0.0101\n",
       "XGBoost            2.1532     0.0394\n",
       "CatBoost           2.1479     0.0441\n",
       "LightGBM           2.1483     0.0437"
      ]
     },
     "metadata": {},
     "output_type": "display_data"
    }
   ],
   "source": [
    "rmse = [2.1599, 2.3602, 2.8219, 2.2079, 2.1532, 2.1479, 2.1483]\n",
    "rsquared = [.0334, -.1542, -.65, -.0101, .0394, .0441, .0437]\n",
    "\n",
    "metrics = pd.DataFrame(np.array([rmse, rsquared]).T, index = index, columns = ['RMSE', 'R-Squared'])\n",
    "display(metrics)"
   ]
  },
  {
   "cell_type": "code",
   "execution_count": 27,
   "id": "57c125b7",
   "metadata": {},
   "outputs": [
    {
     "data": {
      "image/png": "[encoded data removed]",
      "text/plain": [
       "<Figure size 1080x576 with 1 Axes>"
      ]
     },
     "metadata": {
      "needs_background": "light"
     },
     "output_type": "display_data"
    }
   ],
   "source": [
    "importances = sorted(list(zip(models[2].feature_importances_, vectorizer.get_feature_names())))[-20:]\n",
    "plot = pd.DataFrame(importances, columns=['Importance', 'Feature'])\n",
    "\n",
    "fig, ax = plt.subplots(figsize=(15, 8))\n",
    "sns.barplot(data=plot, y='Feature', x='Importance')\n",
    "ax.set_title('Decision Tree Feature Importances')\n",
    "plt.show();"
   ]
  },
  {
   "cell_type": "code",
   "execution_count": 28,
   "id": "c49b59b0",
   "metadata": {},
   "outputs": [
    {
     "data": {
      "image/png": "[encoded data removed]",
      "text/plain": [
       "<Figure size 1080x576 with 1 Axes>"
      ]
     },
     "metadata": {
      "needs_background": "light"
     },
     "output_type": "display_data"
    }
   ],
   "source": [
    "importances = sorted(list(zip(models[3].feature_importances_, vectorizer.get_feature_names())))[-20:]\n",
    "plot = pd.DataFrame(importances, columns=['Importance', 'Feature'])\n",
    "\n",
    "fig, ax = plt.subplots(figsize=(15, 8))\n",
    "sns.barplot(data=plot, y='Feature', x='Importance')\n",
    "ax.set_title('Random Forest Feature Importances')\n",
    "plt.show();"
   ]
  },
  {
   "cell_type": "code",
   "execution_count": 29,
   "id": "6aad7ec3",
   "metadata": {},
   "outputs": [
    {
     "data": {
      "image/png": "[encoded data removed]",
      "text/plain": [
       "<Figure size 1080x576 with 1 Axes>"
      ]
     },
     "metadata": {
      "needs_background": "light"
     },
     "output_type": "display_data"
    }
   ],
   "source": [
    "importances = sorted(list(zip(models[4].feature_importances_, vectorizer.get_feature_names())))[-20:]\n",
    "plot = pd.DataFrame(importances, columns=['Importance', 'Feature'])\n",
    "\n",
    "fig, ax = plt.subplots(figsize=(15, 8))\n",
    "sns.barplot(data=plot, y='Feature', x='Importance')\n",
    "ax.set_title('XGBoost Feature Importances')\n",
    "plt.show();"
   ]
  },
  {
   "cell_type": "code",
   "execution_count": 30,
   "id": "0ff8310d",
   "metadata": {},
   "outputs": [
    {
     "data": {
      "image/png": "[encoded data removed]",
      "text/plain": [
       "<Figure size 1080x576 with 1 Axes>"
      ]
     },
     "metadata": {
      "needs_background": "light"
     },
     "output_type": "display_data"
    }
   ],
   "source": [
    "importances = sorted(list(zip(models[5].feature_importances_, vectorizer.get_feature_names())))[-20:]\n",
    "plot = pd.DataFrame(importances, columns=['Importance', 'Feature'])\n",
    "\n",
    "fig, ax = plt.subplots(figsize=(15, 8))\n",
    "sns.barplot(data=plot, y='Feature', x='Importance')\n",
    "ax.set_title('Cat Boost Feature Importances')\n",
    "plt.show();"
   ]
  },
  {
   "cell_type": "code",
   "execution_count": 31,
   "id": "8da0cc4f",
   "metadata": {},
   "outputs": [
    {
     "data": {
      "image/png": "[encoded data removed]",
      "text/plain": [
       "<Figure size 1080x576 with 1 Axes>"
      ]
     },
     "metadata": {
      "needs_background": "light"
     },
     "output_type": "display_data"
    }
   ],
   "source": [
    "importances = sorted(list(zip(models[6].feature_importances_, vectorizer.get_feature_names())))[-20:]\n",
    "plot = pd.DataFrame(importances, columns=['Importance', 'Feature'])\n",
    "\n",
    "fig, ax = plt.subplots(figsize=(15, 8))\n",
    "sns.barplot(data=plot, y='Feature', x='Importance')\n",
    "ax.set_title('LightGBM Feature Importances')\n",
    "plt.show();"
   ]
  },
  {
   "cell_type": "code",
   "execution_count": null,
   "id": "e5c7828d",
   "metadata": {},
   "outputs": [],
   "source": []
  }
 ],
 "metadata": {
  "kernelspec": {
   "display_name": "Python 3",
   "language": "python",
   "name": "python3"
  },
  "language_info": {
   "codemirror_mode": {
    "name": "ipython",
    "version": 3
   },
   "file_extension": ".py",
   "mimetype": "text/x-python",
   "name": "python",
   "nbconvert_exporter": "python",
   "pygments_lexer": "ipython3",
   "version": "3.8.8"
  }
 },
 "nbformat": 4,
 "nbformat_minor": 5
}
