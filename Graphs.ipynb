{
 "cells": [
  {
   "cell_type": "code",
   "execution_count": 1,
   "id": "522226ca",
   "metadata": {},
   "outputs": [],
   "source": [
    "import pandas as pd\n",
    "import numpy as np\n",
    "import matplotlib.pyplot as plt\n",
    "import seaborn as sns\n",
    "%matplotlib inline"
   ]
  },
  {
   "cell_type": "code",
   "execution_count": null,
   "id": "d4d32b9a",
   "metadata": {},
   "outputs": [],
   "source": [
    "reddit = pd.read_csv('Data/reddit_data.csv')\n",
    "biden = pd.read_csv('Data/approval_data.csv')"
   ]
  },
  {
   "cell_type": "code",
   "execution_count": null,
   "id": "35b041e4",
   "metadata": {},
   "outputs": [],
   "source": [
    "fig, ax = plt.subplots(figsize=(15, 8))\n",
    "sns.lineplot(data=biden, x='startdate', y='approve');"
   ]
  }
 ],
 "metadata": {
  "kernelspec": {
   "display_name": "Python 3",
   "language": "python",
   "name": "python3"
  },
  "language_info": {
   "codemirror_mode": {
    "name": "ipython",
    "version": 3
   },
   "file_extension": ".py",
   "mimetype": "text/x-python",
   "name": "python",
   "nbconvert_exporter": "python",
   "pygments_lexer": "ipython3",
   "version": "3.8.8"
  }
 },
 "nbformat": 4,
 "nbformat_minor": 5
}
