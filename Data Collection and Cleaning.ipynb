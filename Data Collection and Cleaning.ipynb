{
 "cells": [
  {
   "cell_type": "markdown",
   "id": "643e947f",
   "metadata": {},
   "source": [
    "# Introduction"
   ]
  },
  {
   "cell_type": "markdown",
   "id": "c7b36031",
   "metadata": {},
   "source": [
    "The effect of social media on politics is a frequently discussed issue. Claims are often made by media outlets and regulators that social media has a generally negative effect on political sentiment in the US—that social media creates “echo chambers” of like-minded people which lead to polarization and increasingly extreme views."
   ]
  },
  {
   "cell_type": "code",
   "execution_count": 1,
   "id": "55cf660a",
   "metadata": {},
   "outputs": [],
   "source": [
    "import pandas as pd\n",
    "import numpy as np\n",
    "\n",
    "from pmaw import PushshiftAPI\n",
    "import datetime as dt\n",
    "\n",
    "from textblob import TextBlob"
   ]
  },
  {
   "cell_type": "markdown",
   "id": "af44cce8",
   "metadata": {},
   "source": [
    "## Collecting Social Media Data"
   ]
  },
  {
   "cell_type": "markdown",
   "id": "759838b3",
   "metadata": {},
   "source": [
    "For this project, I will use data from Reddit. Because reddit is structured into various subreddits by interest, it is easy both to filter for political content and ensure better representation of a variety of viewpoints. I will collect data from six different subreddits: r/politics and r/news (the two largest general political subreddits), r/liberal and r/democrats (two of the largest left-leaning political subreddits) and r/conservative and r/libertarian (two of the largest right-leaning political subreddits)."
   ]
  },
  {
   "cell_type": "code",
   "execution_count": 2,
   "id": "df0b29e5",
   "metadata": {},
   "outputs": [],
   "source": [
    "api = PushshiftAPI()\n",
    "\n",
    "before = int(dt.datetime(2021,9,15,0,0).timestamp())\n",
    "after = int(dt.datetime(2021,1,23,0,0).timestamp())\n",
    "\n",
    "subs = ['politics', 'news', 'conservative', 'liberal', 'libertarian', 'democrats']"
   ]
  },
  {
   "cell_type": "code",
   "execution_count": 3,
   "id": "29881d56",
   "metadata": {},
   "outputs": [],
   "source": [
    "def get_data(subreddit):\n",
    "    limit = 100000\n",
    "    comments = api.search_comments(subreddit=subreddit, limit=limit, before=before, after=after)\n",
    "    df = pd.DataFrame(comments)\n",
    "    return df\n",
    "\n",
    "def combine_data(subs):\n",
    "    full_df = pd.DataFrame()\n",
    "    for sub in subs:\n",
    "        new_df = get_data(sub)\n",
    "        full_df = pd.concat([full_df, new_df])\n",
    "    return full_df"
   ]
  },
  {
   "cell_type": "code",
   "execution_count": 4,
   "id": "4a1f433e",
   "metadata": {},
   "outputs": [
    {
     "name": "stdout",
     "output_type": "stream",
     "text": [
      "Total:: Success Rate: 99.80% - Requests: 1015 - Batches: 102 - Items Remaining: 0\n",
      "Total:: Success Rate: 99.41% - Requests: 1018 - Batches: 102 - Items Remaining: 0\n",
      "Total:: Success Rate: 94.40% - Requests: 1072 - Batches: 108 - Items Remaining: 0\n",
      "70489 result(s) not found in Pushshift\n",
      "Total:: Success Rate: 88.19% - Requests: 398 - Batches: 42 - Items Remaining: 0\n",
      "Total:: Success Rate: 82.91% - Requests: 1223 - Batches: 123 - Items Remaining: 0\n",
      "Total:: Success Rate: 71.49% - Requests: 1596 - Batches: 160 - Items Remaining: 0\n"
     ]
    }
   ],
   "source": [
    "reddit = combine_data(subs)"
   ]
  },
  {
   "cell_type": "code",
   "execution_count": 5,
   "id": "7ff651d1",
   "metadata": {},
   "outputs": [
    {
     "name": "stdout",
     "output_type": "stream",
     "text": [
      "<class 'pandas.core.frame.DataFrame'>\n",
      "Int64Index: 529511 entries, 0 to 99999\n",
      "Data columns (total 51 columns):\n",
      " #   Column                           Non-Null Count   Dtype  \n",
      "---  ------                           --------------   -----  \n",
      " 0   all_awardings                    529511 non-null  object \n",
      " 1   associated_award                 0 non-null       object \n",
      " 2   author                           529511 non-null  object \n",
      " 3   author_flair_background_color    138503 non-null  object \n",
      " 4   author_flair_css_class           20610 non-null   object \n",
      " 5   author_flair_richtext            449806 non-null  object \n",
      " 6   author_flair_template_id         46738 non-null   object \n",
      " 7   author_flair_text                76450 non-null   object \n",
      " 8   author_flair_text_color          156709 non-null  object \n",
      " 9   author_flair_type                449806 non-null  object \n",
      " 10  author_fullname                  449806 non-null  object \n",
      " 11  author_patreon_flair             449806 non-null  object \n",
      " 12  author_premium                   449806 non-null  object \n",
      " 13  awarders                         513489 non-null  object \n",
      " 14  body                             529511 non-null  object \n",
      " 15  collapsed_because_crowd_control  0 non-null       object \n",
      " 16  comment_type                     0 non-null       object \n",
      " 17  created_utc                      529511 non-null  int64  \n",
      " 18  gildings                         529511 non-null  object \n",
      " 19  id                               529511 non-null  object \n",
      " 20  is_submitter                     529511 non-null  bool   \n",
      " 21  link_id                          529511 non-null  object \n",
      " 22  locked                           529511 non-null  bool   \n",
      " 23  no_follow                        529511 non-null  bool   \n",
      " 24  parent_id                        529511 non-null  object \n",
      " 25  permalink                        529511 non-null  object \n",
      " 26  retrieved_on                     513489 non-null  float64\n",
      " 27  score                            529511 non-null  int64  \n",
      " 28  send_replies                     529511 non-null  bool   \n",
      " 29  stickied                         529511 non-null  bool   \n",
      " 30  subreddit                        529511 non-null  object \n",
      " 31  subreddit_id                     529511 non-null  object \n",
      " 32  top_awarded_type                 0 non-null       object \n",
      " 33  total_awards_received            529511 non-null  int64  \n",
      " 34  treatment_tags                   529511 non-null  object \n",
      " 35  distinguished                    6379 non-null    object \n",
      " 36  author_cakeday                   1734 non-null    object \n",
      " 37  archived                         16022 non-null   object \n",
      " 38  body_sha1                        16022 non-null   object \n",
      " 39  can_gild                         16022 non-null   object \n",
      " 40  collapsed                        16022 non-null   object \n",
      " 41  collapsed_reason                 18 non-null      object \n",
      " 42  collapsed_reason_code            21696 non-null   object \n",
      " 43  controversiality                 16022 non-null   float64\n",
      " 44  gilded                           16022 non-null   float64\n",
      " 45  retrieved_utc                    16022 non-null   float64\n",
      " 46  score_hidden                     16022 non-null   object \n",
      " 47  subreddit_name_prefixed          16022 non-null   object \n",
      " 48  subreddit_type                   16022 non-null   object \n",
      " 49  edited                           88 non-null      float64\n",
      " 50  editable                         3 non-null       object \n",
      "dtypes: bool(5), float64(5), int64(3), object(38)\n",
      "memory usage: 192.4+ MB\n"
     ]
    }
   ],
   "source": [
    "reddit.info()"
   ]
  },
  {
   "cell_type": "code",
   "execution_count": 6,
   "id": "dd2c6823",
   "metadata": {},
   "outputs": [],
   "source": [
    "reddit.drop(columns = ['all_awardings', 'associated_award', 'author_flair_background_color', \n",
    "                        'author_flair_css_class', 'author_flair_template_id', 'author_flair_text', \n",
    "                        'author_flair_text_color', 'awarders', 'collapsed_because_crowd_control', \n",
    "                        'comment_type', 'gildings', 'id', 'is_submitter', 'link_id', 'locked', 'no_follow', 'parent_id', \n",
    "                        'retrieved_on', 'send_replies', 'stickied', 'subreddit_id', 'top_awarded_type', 'treatment_tags',\n",
    "                        'author_flair_richtext', 'author_flair_type', 'author_fullname', 'author_patreon_flair', \n",
    "                        'author_premium', 'distinguished', 'author_cakeday', 'collapsed_reason_code', \n",
    "                        'archived', 'body_sha1', 'can_gild', 'collapsed', 'collapsed_reason', 'controversiality', \n",
    "                        'gilded', 'retrieved_utc', 'score_hidden', 'subreddit_name_prefixed', 'subreddit_type', \n",
    "                        'edited'], inplace=True)"
   ]
  },
  {
   "cell_type": "code",
   "execution_count": 7,
   "id": "7bc47622",
   "metadata": {},
   "outputs": [],
   "source": [
    "reddit['created_utc'] = pd.to_datetime(reddit['created_utc'], unit='s')\n",
    "\n",
    "reddit = reddit[reddit['body'] != \"[removed]\"]\n",
    "reddit = reddit[reddit['body'] != \"[deleted]\"]"
   ]
  },
  {
   "cell_type": "code",
   "execution_count": 8,
   "id": "48d17fd5",
   "metadata": {},
   "outputs": [
    {
     "name": "stdout",
     "output_type": "stream",
     "text": [
      "<class 'pandas.core.frame.DataFrame'>\n",
      "Int64Index: 450183 entries, 0 to 99999\n",
      "Data columns (total 8 columns):\n",
      " #   Column                 Non-Null Count   Dtype         \n",
      "---  ------                 --------------   -----         \n",
      " 0   author                 450183 non-null  object        \n",
      " 1   body                   450183 non-null  object        \n",
      " 2   created_utc            450183 non-null  datetime64[ns]\n",
      " 3   permalink              450183 non-null  object        \n",
      " 4   score                  450183 non-null  int64         \n",
      " 5   subreddit              450183 non-null  object        \n",
      " 6   total_awards_received  450183 non-null  int64         \n",
      " 7   editable               0 non-null       object        \n",
      "dtypes: datetime64[ns](1), int64(2), object(5)\n",
      "memory usage: 30.9+ MB\n"
     ]
    }
   ],
   "source": [
    "reddit.info()"
   ]
  },
  {
   "cell_type": "code",
   "execution_count": 9,
   "id": "77c4c814",
   "metadata": {},
   "outputs": [
    {
     "data": {
      "text/html": [
       "<div>\n",
       "<style scoped>\n",
       "    .dataframe tbody tr th:only-of-type {\n",
       "        vertical-align: middle;\n",
       "    }\n",
       "\n",
       "    .dataframe tbody tr th {\n",
       "        vertical-align: top;\n",
       "    }\n",
       "\n",
       "    .dataframe thead th {\n",
       "        text-align: right;\n",
       "    }\n",
       "</style>\n",
       "<table border=\"1\" class=\"dataframe\">\n",
       "  <thead>\n",
       "    <tr style=\"text-align: right;\">\n",
       "      <th></th>\n",
       "      <th>author</th>\n",
       "      <th>body</th>\n",
       "      <th>created_utc</th>\n",
       "      <th>permalink</th>\n",
       "      <th>score</th>\n",
       "      <th>subreddit</th>\n",
       "      <th>total_awards_received</th>\n",
       "      <th>editable</th>\n",
       "    </tr>\n",
       "  </thead>\n",
       "  <tbody>\n",
       "    <tr>\n",
       "      <th>0</th>\n",
       "      <td>execdysfunction</td>\n",
       "      <td>Maybe. We need to be aiming higher</td>\n",
       "      <td>2021-04-03 19:41:59</td>\n",
       "      <td>/r/politics/comments/mj839d/schumer_senate_wil...</td>\n",
       "      <td>1</td>\n",
       "      <td>politics</td>\n",
       "      <td>0</td>\n",
       "      <td>NaN</td>\n",
       "    </tr>\n",
       "    <tr>\n",
       "      <th>1</th>\n",
       "      <td>yappledapple</td>\n",
       "      <td>I hadn't heard that one. I think the ones stil...</td>\n",
       "      <td>2021-04-03 19:41:59</td>\n",
       "      <td>/r/politics/comments/mjcrfb/schumer_says_senat...</td>\n",
       "      <td>1</td>\n",
       "      <td>politics</td>\n",
       "      <td>0</td>\n",
       "      <td>NaN</td>\n",
       "    </tr>\n",
       "    <tr>\n",
       "      <th>2</th>\n",
       "      <td>Tots4trump</td>\n",
       "      <td>“The statue was presented to the British as a ...</td>\n",
       "      <td>2021-04-03 19:41:56</td>\n",
       "      <td>/r/politics/comments/mjczhl/confederate_symbol...</td>\n",
       "      <td>1</td>\n",
       "      <td>politics</td>\n",
       "      <td>0</td>\n",
       "      <td>NaN</td>\n",
       "    </tr>\n",
       "    <tr>\n",
       "      <th>3</th>\n",
       "      <td>DroopyMcCool</td>\n",
       "      <td>Is this something that is in the DOI's purview...</td>\n",
       "      <td>2021-04-03 19:41:55</td>\n",
       "      <td>/r/politics/comments/mj6klw/secretary_deb_haal...</td>\n",
       "      <td>1</td>\n",
       "      <td>politics</td>\n",
       "      <td>0</td>\n",
       "      <td>NaN</td>\n",
       "    </tr>\n",
       "    <tr>\n",
       "      <th>4</th>\n",
       "      <td>FlyingRock</td>\n",
       "      <td>New York legalizing is definitely why it's bei...</td>\n",
       "      <td>2021-04-03 19:41:55</td>\n",
       "      <td>/r/politics/comments/mj839d/schumer_senate_wil...</td>\n",
       "      <td>1</td>\n",
       "      <td>politics</td>\n",
       "      <td>0</td>\n",
       "      <td>NaN</td>\n",
       "    </tr>\n",
       "  </tbody>\n",
       "</table>\n",
       "</div>"
      ],
      "text/plain": [
       "            author                                               body  \\\n",
       "0  execdysfunction                 Maybe. We need to be aiming higher   \n",
       "1     yappledapple  I hadn't heard that one. I think the ones stil...   \n",
       "2       Tots4trump  “The statue was presented to the British as a ...   \n",
       "3     DroopyMcCool  Is this something that is in the DOI's purview...   \n",
       "4       FlyingRock  New York legalizing is definitely why it's bei...   \n",
       "\n",
       "          created_utc                                          permalink  \\\n",
       "0 2021-04-03 19:41:59  /r/politics/comments/mj839d/schumer_senate_wil...   \n",
       "1 2021-04-03 19:41:59  /r/politics/comments/mjcrfb/schumer_says_senat...   \n",
       "2 2021-04-03 19:41:56  /r/politics/comments/mjczhl/confederate_symbol...   \n",
       "3 2021-04-03 19:41:55  /r/politics/comments/mj6klw/secretary_deb_haal...   \n",
       "4 2021-04-03 19:41:55  /r/politics/comments/mj839d/schumer_senate_wil...   \n",
       "\n",
       "   score subreddit  total_awards_received editable  \n",
       "0      1  politics                      0      NaN  \n",
       "1      1  politics                      0      NaN  \n",
       "2      1  politics                      0      NaN  \n",
       "3      1  politics                      0      NaN  \n",
       "4      1  politics                      0      NaN  "
      ]
     },
     "execution_count": 9,
     "metadata": {},
     "output_type": "execute_result"
    }
   ],
   "source": [
    "reddit.head()"
   ]
  },
  {
   "cell_type": "markdown",
   "id": "6bfe213d",
   "metadata": {},
   "source": [
    "## Sentiment Analysis"
   ]
  },
  {
   "cell_type": "markdown",
   "id": "96b70042",
   "metadata": {},
   "source": [
    "TextBlob will be used to generate sentiment scores for the data."
   ]
  },
  {
   "cell_type": "code",
   "execution_count": 10,
   "id": "6c87f9bb",
   "metadata": {},
   "outputs": [],
   "source": [
    "reddit['body'] = reddit['body'].astype(str)\n",
    "\n",
    "def subjectivity(text):\n",
    "    return TextBlob(text).sentiment.subjectivity\n",
    "\n",
    "def polarity(text):\n",
    "    return TextBlob(text).sentiment.polarity\n",
    "\n",
    "reddit['Polarity'] = reddit['body'].apply(polarity)\n",
    "reddit['Subjectivity'] = reddit['body'].apply(subjectivity)"
   ]
  },
  {
   "cell_type": "code",
   "execution_count": 11,
   "id": "6949eff0",
   "metadata": {},
   "outputs": [],
   "source": [
    "def get_sentiment(score):\n",
    "    if score < 0:\n",
    "        return 'Negative'\n",
    "    elif score == 0:\n",
    "        return 'Neutral'\n",
    "    else: return 'Positive'\n",
    "    \n",
    "reddit['Sentiment'] = reddit['Polarity'].apply(get_sentiment)"
   ]
  },
  {
   "cell_type": "code",
   "execution_count": 12,
   "id": "fdf564e2",
   "metadata": {},
   "outputs": [
    {
     "name": "stdout",
     "output_type": "stream",
     "text": [
      "<class 'pandas.core.frame.DataFrame'>\n",
      "Int64Index: 450183 entries, 0 to 99999\n",
      "Data columns (total 11 columns):\n",
      " #   Column                 Non-Null Count   Dtype         \n",
      "---  ------                 --------------   -----         \n",
      " 0   author                 450183 non-null  object        \n",
      " 1   body                   450183 non-null  object        \n",
      " 2   created_utc            450183 non-null  datetime64[ns]\n",
      " 3   permalink              450183 non-null  object        \n",
      " 4   score                  450183 non-null  int64         \n",
      " 5   subreddit              450183 non-null  object        \n",
      " 6   total_awards_received  450183 non-null  int64         \n",
      " 7   editable               0 non-null       object        \n",
      " 8   Polarity               450183 non-null  float64       \n",
      " 9   Subjectivity           450183 non-null  float64       \n",
      " 10  Sentiment              450183 non-null  object        \n",
      "dtypes: datetime64[ns](1), float64(2), int64(2), object(6)\n",
      "memory usage: 41.2+ MB\n"
     ]
    }
   ],
   "source": [
    "reddit.info()"
   ]
  },
  {
   "cell_type": "markdown",
   "id": "2bcdf9bc",
   "metadata": {},
   "source": [
    "## Creating the Target Variable"
   ]
  },
  {
   "cell_type": "markdown",
   "id": "7652c5d5",
   "metadata": {},
   "source": [
    "In order to facilitate modelling, each comment will need to be matched with the presidential approval rating for the day in question. "
   ]
  },
  {
   "cell_type": "code",
   "execution_count": 13,
   "id": "3c4ef1cc",
   "metadata": {},
   "outputs": [],
   "source": [
    "approval = pd.read_csv('Data/approval_topline.csv')"
   ]
  },
  {
   "cell_type": "code",
   "execution_count": 14,
   "id": "22b20296",
   "metadata": {},
   "outputs": [
    {
     "data": {
      "text/html": [
       "<div>\n",
       "<style scoped>\n",
       "    .dataframe tbody tr th:only-of-type {\n",
       "        vertical-align: middle;\n",
       "    }\n",
       "\n",
       "    .dataframe tbody tr th {\n",
       "        vertical-align: top;\n",
       "    }\n",
       "\n",
       "    .dataframe thead th {\n",
       "        text-align: right;\n",
       "    }\n",
       "</style>\n",
       "<table border=\"1\" class=\"dataframe\">\n",
       "  <thead>\n",
       "    <tr style=\"text-align: right;\">\n",
       "      <th></th>\n",
       "      <th>president</th>\n",
       "      <th>subgroup</th>\n",
       "      <th>modeldate</th>\n",
       "      <th>approve_estimate</th>\n",
       "      <th>approve_hi</th>\n",
       "      <th>approve_lo</th>\n",
       "      <th>disapprove_estimate</th>\n",
       "      <th>disapprove_hi</th>\n",
       "      <th>disapprove_lo</th>\n",
       "      <th>timestamp</th>\n",
       "    </tr>\n",
       "  </thead>\n",
       "  <tbody>\n",
       "    <tr>\n",
       "      <th>0</th>\n",
       "      <td>Joseph R. Biden Jr.</td>\n",
       "      <td>Voters</td>\n",
       "      <td>10/6/2021</td>\n",
       "      <td>44.934047</td>\n",
       "      <td>49.671079</td>\n",
       "      <td>40.197016</td>\n",
       "      <td>49.332431</td>\n",
       "      <td>54.603749</td>\n",
       "      <td>44.061113</td>\n",
       "      <td>10/6/2021 13:57</td>\n",
       "    </tr>\n",
       "    <tr>\n",
       "      <th>1</th>\n",
       "      <td>Joseph R. Biden Jr.</td>\n",
       "      <td>Voters</td>\n",
       "      <td>10/5/2021</td>\n",
       "      <td>45.804673</td>\n",
       "      <td>50.491925</td>\n",
       "      <td>41.117422</td>\n",
       "      <td>48.388750</td>\n",
       "      <td>54.107867</td>\n",
       "      <td>42.669634</td>\n",
       "      <td>10/5/2021 20:25</td>\n",
       "    </tr>\n",
       "    <tr>\n",
       "      <th>2</th>\n",
       "      <td>Joseph R. Biden Jr.</td>\n",
       "      <td>All polls</td>\n",
       "      <td>10/4/2021</td>\n",
       "      <td>44.817262</td>\n",
       "      <td>49.089776</td>\n",
       "      <td>40.544748</td>\n",
       "      <td>47.846172</td>\n",
       "      <td>54.005670</td>\n",
       "      <td>41.686673</td>\n",
       "      <td>10/4/2021 13:15</td>\n",
       "    </tr>\n",
       "    <tr>\n",
       "      <th>3</th>\n",
       "      <td>Joseph R. Biden Jr.</td>\n",
       "      <td>Adults</td>\n",
       "      <td>10/3/2021</td>\n",
       "      <td>44.872265</td>\n",
       "      <td>49.258332</td>\n",
       "      <td>40.486198</td>\n",
       "      <td>48.060846</td>\n",
       "      <td>53.324118</td>\n",
       "      <td>42.797574</td>\n",
       "      <td>10/3/2021 20:34</td>\n",
       "    </tr>\n",
       "    <tr>\n",
       "      <th>4</th>\n",
       "      <td>Joseph R. Biden Jr.</td>\n",
       "      <td>All polls</td>\n",
       "      <td>10/2/2021</td>\n",
       "      <td>44.972914</td>\n",
       "      <td>49.438682</td>\n",
       "      <td>40.507146</td>\n",
       "      <td>48.700901</td>\n",
       "      <td>54.313456</td>\n",
       "      <td>43.088347</td>\n",
       "      <td>10/3/2021 20:34</td>\n",
       "    </tr>\n",
       "  </tbody>\n",
       "</table>\n",
       "</div>"
      ],
      "text/plain": [
       "             president   subgroup  modeldate  approve_estimate  approve_hi  \\\n",
       "0  Joseph R. Biden Jr.     Voters  10/6/2021         44.934047   49.671079   \n",
       "1  Joseph R. Biden Jr.     Voters  10/5/2021         45.804673   50.491925   \n",
       "2  Joseph R. Biden Jr.  All polls  10/4/2021         44.817262   49.089776   \n",
       "3  Joseph R. Biden Jr.     Adults  10/3/2021         44.872265   49.258332   \n",
       "4  Joseph R. Biden Jr.  All polls  10/2/2021         44.972914   49.438682   \n",
       "\n",
       "   approve_lo  disapprove_estimate  disapprove_hi  disapprove_lo  \\\n",
       "0   40.197016            49.332431      54.603749      44.061113   \n",
       "1   41.117422            48.388750      54.107867      42.669634   \n",
       "2   40.544748            47.846172      54.005670      41.686673   \n",
       "3   40.486198            48.060846      53.324118      42.797574   \n",
       "4   40.507146            48.700901      54.313456      43.088347   \n",
       "\n",
       "         timestamp  \n",
       "0  10/6/2021 13:57  \n",
       "1  10/5/2021 20:25  \n",
       "2  10/4/2021 13:15  \n",
       "3  10/3/2021 20:34  \n",
       "4  10/3/2021 20:34  "
      ]
     },
     "execution_count": 14,
     "metadata": {},
     "output_type": "execute_result"
    }
   ],
   "source": [
    "approval.head()"
   ]
  },
  {
   "cell_type": "code",
   "execution_count": 15,
   "id": "2bfa67e0",
   "metadata": {},
   "outputs": [],
   "source": [
    "approval.set_index('modeldate', inplace=True)\n",
    "approval.drop(columns=['president', 'subgroup', 'approve_hi', 'approve_lo', 'disapprove_estimate', \n",
    "                       'disapprove_hi', 'disapprove_lo', 'timestamp'], inplace=True)"
   ]
  },
  {
   "cell_type": "code",
   "execution_count": 16,
   "id": "1e24f279",
   "metadata": {},
   "outputs": [],
   "source": [
    "#create dictionary of approval ratings by date\n",
    "ratings = approval.to_dict()\n",
    "ratings = ratings['approve_estimate']"
   ]
  },
  {
   "cell_type": "code",
   "execution_count": 17,
   "id": "378af196",
   "metadata": {},
   "outputs": [],
   "source": [
    "#create date column with format matching the dictionary for mapping\n",
    "reddit['date'] = reddit['created_utc'].dt.strftime('%#m/%#d/%Y')\n",
    "reddit['date'] = reddit['date'].astype(str)"
   ]
  },
  {
   "cell_type": "code",
   "execution_count": 18,
   "id": "eab3542e",
   "metadata": {},
   "outputs": [],
   "source": [
    "reddit['target'] = reddit['date'].map(ratings)"
   ]
  },
  {
   "cell_type": "code",
   "execution_count": 19,
   "id": "bbbe87f0",
   "metadata": {},
   "outputs": [
    {
     "data": {
      "text/html": [
       "<div>\n",
       "<style scoped>\n",
       "    .dataframe tbody tr th:only-of-type {\n",
       "        vertical-align: middle;\n",
       "    }\n",
       "\n",
       "    .dataframe tbody tr th {\n",
       "        vertical-align: top;\n",
       "    }\n",
       "\n",
       "    .dataframe thead th {\n",
       "        text-align: right;\n",
       "    }\n",
       "</style>\n",
       "<table border=\"1\" class=\"dataframe\">\n",
       "  <thead>\n",
       "    <tr style=\"text-align: right;\">\n",
       "      <th></th>\n",
       "      <th>author</th>\n",
       "      <th>body</th>\n",
       "      <th>created_utc</th>\n",
       "      <th>permalink</th>\n",
       "      <th>score</th>\n",
       "      <th>subreddit</th>\n",
       "      <th>total_awards_received</th>\n",
       "      <th>editable</th>\n",
       "      <th>Polarity</th>\n",
       "      <th>Subjectivity</th>\n",
       "      <th>Sentiment</th>\n",
       "      <th>date</th>\n",
       "      <th>target</th>\n",
       "    </tr>\n",
       "  </thead>\n",
       "  <tbody>\n",
       "    <tr>\n",
       "      <th>0</th>\n",
       "      <td>execdysfunction</td>\n",
       "      <td>Maybe. We need to be aiming higher</td>\n",
       "      <td>2021-04-03 19:41:59</td>\n",
       "      <td>/r/politics/comments/mj839d/schumer_senate_wil...</td>\n",
       "      <td>1</td>\n",
       "      <td>politics</td>\n",
       "      <td>0</td>\n",
       "      <td>NaN</td>\n",
       "      <td>0.250000</td>\n",
       "      <td>0.500000</td>\n",
       "      <td>Positive</td>\n",
       "      <td>4/3/2021</td>\n",
       "      <td>53.414394</td>\n",
       "    </tr>\n",
       "    <tr>\n",
       "      <th>1</th>\n",
       "      <td>yappledapple</td>\n",
       "      <td>I hadn't heard that one. I think the ones stil...</td>\n",
       "      <td>2021-04-03 19:41:59</td>\n",
       "      <td>/r/politics/comments/mjcrfb/schumer_says_senat...</td>\n",
       "      <td>1</td>\n",
       "      <td>politics</td>\n",
       "      <td>0</td>\n",
       "      <td>NaN</td>\n",
       "      <td>-0.166667</td>\n",
       "      <td>0.500000</td>\n",
       "      <td>Negative</td>\n",
       "      <td>4/3/2021</td>\n",
       "      <td>53.414394</td>\n",
       "    </tr>\n",
       "    <tr>\n",
       "      <th>2</th>\n",
       "      <td>Tots4trump</td>\n",
       "      <td>“The statue was presented to the British as a ...</td>\n",
       "      <td>2021-04-03 19:41:56</td>\n",
       "      <td>/r/politics/comments/mjczhl/confederate_symbol...</td>\n",
       "      <td>1</td>\n",
       "      <td>politics</td>\n",
       "      <td>0</td>\n",
       "      <td>NaN</td>\n",
       "      <td>0.295000</td>\n",
       "      <td>0.430000</td>\n",
       "      <td>Positive</td>\n",
       "      <td>4/3/2021</td>\n",
       "      <td>53.414394</td>\n",
       "    </tr>\n",
       "    <tr>\n",
       "      <th>3</th>\n",
       "      <td>DroopyMcCool</td>\n",
       "      <td>Is this something that is in the DOI's purview...</td>\n",
       "      <td>2021-04-03 19:41:55</td>\n",
       "      <td>/r/politics/comments/mj6klw/secretary_deb_haal...</td>\n",
       "      <td>1</td>\n",
       "      <td>politics</td>\n",
       "      <td>0</td>\n",
       "      <td>NaN</td>\n",
       "      <td>0.068182</td>\n",
       "      <td>0.227273</td>\n",
       "      <td>Positive</td>\n",
       "      <td>4/3/2021</td>\n",
       "      <td>53.414394</td>\n",
       "    </tr>\n",
       "    <tr>\n",
       "      <th>4</th>\n",
       "      <td>FlyingRock</td>\n",
       "      <td>New York legalizing is definitely why it's bei...</td>\n",
       "      <td>2021-04-03 19:41:55</td>\n",
       "      <td>/r/politics/comments/mj839d/schumer_senate_wil...</td>\n",
       "      <td>1</td>\n",
       "      <td>politics</td>\n",
       "      <td>0</td>\n",
       "      <td>NaN</td>\n",
       "      <td>0.033939</td>\n",
       "      <td>0.517576</td>\n",
       "      <td>Positive</td>\n",
       "      <td>4/3/2021</td>\n",
       "      <td>53.414394</td>\n",
       "    </tr>\n",
       "  </tbody>\n",
       "</table>\n",
       "</div>"
      ],
      "text/plain": [
       "            author                                               body  \\\n",
       "0  execdysfunction                 Maybe. We need to be aiming higher   \n",
       "1     yappledapple  I hadn't heard that one. I think the ones stil...   \n",
       "2       Tots4trump  “The statue was presented to the British as a ...   \n",
       "3     DroopyMcCool  Is this something that is in the DOI's purview...   \n",
       "4       FlyingRock  New York legalizing is definitely why it's bei...   \n",
       "\n",
       "          created_utc                                          permalink  \\\n",
       "0 2021-04-03 19:41:59  /r/politics/comments/mj839d/schumer_senate_wil...   \n",
       "1 2021-04-03 19:41:59  /r/politics/comments/mjcrfb/schumer_says_senat...   \n",
       "2 2021-04-03 19:41:56  /r/politics/comments/mjczhl/confederate_symbol...   \n",
       "3 2021-04-03 19:41:55  /r/politics/comments/mj6klw/secretary_deb_haal...   \n",
       "4 2021-04-03 19:41:55  /r/politics/comments/mj839d/schumer_senate_wil...   \n",
       "\n",
       "   score subreddit  total_awards_received editable  Polarity  Subjectivity  \\\n",
       "0      1  politics                      0      NaN  0.250000      0.500000   \n",
       "1      1  politics                      0      NaN -0.166667      0.500000   \n",
       "2      1  politics                      0      NaN  0.295000      0.430000   \n",
       "3      1  politics                      0      NaN  0.068182      0.227273   \n",
       "4      1  politics                      0      NaN  0.033939      0.517576   \n",
       "\n",
       "  Sentiment      date     target  \n",
       "0  Positive  4/3/2021  53.414394  \n",
       "1  Negative  4/3/2021  53.414394  \n",
       "2  Positive  4/3/2021  53.414394  \n",
       "3  Positive  4/3/2021  53.414394  \n",
       "4  Positive  4/3/2021  53.414394  "
      ]
     },
     "execution_count": 19,
     "metadata": {},
     "output_type": "execute_result"
    }
   ],
   "source": [
    "reddit.head()"
   ]
  },
  {
   "cell_type": "code",
   "execution_count": 20,
   "id": "5b9675f8",
   "metadata": {},
   "outputs": [],
   "source": [
    "#save as csv\n",
    "reddit.to_csv('Data/reddit_data.csv')"
   ]
  },
  {
   "cell_type": "code",
   "execution_count": null,
   "id": "9a8c9cfe",
   "metadata": {},
   "outputs": [],
   "source": []
  }
 ],
 "metadata": {
  "kernelspec": {
   "display_name": "Python 3",
   "language": "python",
   "name": "python3"
  },
  "language_info": {
   "codemirror_mode": {
    "name": "ipython",
    "version": 3
   },
   "file_extension": ".py",
   "mimetype": "text/x-python",
   "name": "python",
   "nbconvert_exporter": "python",
   "pygments_lexer": "ipython3",
   "version": "3.8.8"
  }
 },
 "nbformat": 4,
 "nbformat_minor": 5
}
