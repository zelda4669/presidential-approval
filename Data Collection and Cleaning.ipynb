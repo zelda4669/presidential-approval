{
 "cells": [
  {
   "cell_type": "markdown",
   "id": "643e947f",
   "metadata": {},
   "source": [
    "# Introduction"
   ]
  },
  {
   "cell_type": "markdown",
   "id": "c7b36031",
   "metadata": {},
   "source": [
    "Presidential approval polls are a key metric for understanding public sentiment of political events. However, traditional polling can be time and labor intensive. With the rise of social media, we have at our fingertips a wealth of data on public sentiment of any number of topics, including politics. The goal of this project is to build a model that uses social media comments to generate a presidential approval rating."
   ]
  },
  {
   "cell_type": "markdown",
   "id": "0f9ac74a",
   "metadata": {},
   "source": [
    "## Approval Rating Data"
   ]
  },
  {
   "cell_type": "markdown",
   "id": "f382c11c",
   "metadata": {},
   "source": [
    "Presidential approval ratings have been collected from [FiveThirtyEight](https://projects.fivethirtyeight.com/biden-approval-rating/). For this project, I will be using only data from Biden's presidency, so the dates in this dataset are January 20, 2021 - September 15, 2021."
   ]
  },
  {
   "cell_type": "code",
   "execution_count": 1,
   "id": "55cf660a",
   "metadata": {},
   "outputs": [],
   "source": [
    "import pandas as pd\n",
    "import numpy as np\n",
    "import matplotlib.pyplot as plt\n",
    "import seaborn as sns\n",
    "%matplotlib inline\n",
    "\n",
    "from pmaw import PushshiftAPI\n",
    "import datetime as dt\n",
    "\n",
    "from textblob import TextBlob"
   ]
  },
  {
   "cell_type": "code",
   "execution_count": 2,
   "id": "8f32d2c8",
   "metadata": {},
   "outputs": [],
   "source": [
    "biden = pd.read_csv('Data/Biden.csv')"
   ]
  },
  {
   "cell_type": "code",
   "execution_count": 3,
   "id": "dda388f7",
   "metadata": {},
   "outputs": [
    {
     "data": {
      "text/html": [
       "<div>\n",
       "<style scoped>\n",
       "    .dataframe tbody tr th:only-of-type {\n",
       "        vertical-align: middle;\n",
       "    }\n",
       "\n",
       "    .dataframe tbody tr th {\n",
       "        vertical-align: top;\n",
       "    }\n",
       "\n",
       "    .dataframe thead th {\n",
       "        text-align: right;\n",
       "    }\n",
       "</style>\n",
       "<table border=\"1\" class=\"dataframe\">\n",
       "  <thead>\n",
       "    <tr style=\"text-align: right;\">\n",
       "      <th></th>\n",
       "      <th>president</th>\n",
       "      <th>subgroup</th>\n",
       "      <th>modeldate</th>\n",
       "      <th>startdate</th>\n",
       "      <th>enddate</th>\n",
       "      <th>pollster</th>\n",
       "      <th>grade</th>\n",
       "      <th>samplesize</th>\n",
       "      <th>population</th>\n",
       "      <th>weight</th>\n",
       "      <th>...</th>\n",
       "      <th>disapprove</th>\n",
       "      <th>adjusted_approve</th>\n",
       "      <th>adjusted_disapprove</th>\n",
       "      <th>multiversions</th>\n",
       "      <th>tracking</th>\n",
       "      <th>url</th>\n",
       "      <th>poll_id</th>\n",
       "      <th>question_id</th>\n",
       "      <th>createddate</th>\n",
       "      <th>timestamp</th>\n",
       "    </tr>\n",
       "  </thead>\n",
       "  <tbody>\n",
       "    <tr>\n",
       "      <th>0</th>\n",
       "      <td>Joseph R. Biden Jr.</td>\n",
       "      <td>All polls</td>\n",
       "      <td>9/15/2021</td>\n",
       "      <td>1/21/2021</td>\n",
       "      <td>2/2/2021</td>\n",
       "      <td>Gallup</td>\n",
       "      <td>B+</td>\n",
       "      <td>906.0</td>\n",
       "      <td>a</td>\n",
       "      <td>1.314707</td>\n",
       "      <td>...</td>\n",
       "      <td>37.0</td>\n",
       "      <td>56.394227</td>\n",
       "      <td>36.431592</td>\n",
       "      <td>NaN</td>\n",
       "      <td>NaN</td>\n",
       "      <td>https://news.gallup.com/poll/329348/biden-begi...</td>\n",
       "      <td>74344</td>\n",
       "      <td>139651</td>\n",
       "      <td>2/4/2021</td>\n",
       "      <td>9/15/2021 13:24</td>\n",
       "    </tr>\n",
       "    <tr>\n",
       "      <th>1</th>\n",
       "      <td>Joseph R. Biden Jr.</td>\n",
       "      <td>All polls</td>\n",
       "      <td>9/15/2021</td>\n",
       "      <td>1/28/2021</td>\n",
       "      <td>2/1/2021</td>\n",
       "      <td>Quinnipiac University</td>\n",
       "      <td>A-</td>\n",
       "      <td>1075.0</td>\n",
       "      <td>a</td>\n",
       "      <td>1.532490</td>\n",
       "      <td>...</td>\n",
       "      <td>36.0</td>\n",
       "      <td>51.375610</td>\n",
       "      <td>35.903037</td>\n",
       "      <td>NaN</td>\n",
       "      <td>NaN</td>\n",
       "      <td>https://poll.qu.edu/poll-release?releaseid=3766</td>\n",
       "      <td>74334</td>\n",
       "      <td>139617</td>\n",
       "      <td>2/3/2021</td>\n",
       "      <td>9/15/2021 13:24</td>\n",
       "    </tr>\n",
       "    <tr>\n",
       "      <th>2</th>\n",
       "      <td>Joseph R. Biden Jr.</td>\n",
       "      <td>All polls</td>\n",
       "      <td>9/15/2021</td>\n",
       "      <td>1/27/2021</td>\n",
       "      <td>2/1/2021</td>\n",
       "      <td>Global Strategy Group/GBAO (Navigator Research)</td>\n",
       "      <td>B/C</td>\n",
       "      <td>1005.0</td>\n",
       "      <td>rv</td>\n",
       "      <td>0.915957</td>\n",
       "      <td>...</td>\n",
       "      <td>39.0</td>\n",
       "      <td>52.497920</td>\n",
       "      <td>38.182669</td>\n",
       "      <td>NaN</td>\n",
       "      <td>NaN</td>\n",
       "      <td>https://navigatorresearch.org/wp-content/uploa...</td>\n",
       "      <td>74324</td>\n",
       "      <td>139564</td>\n",
       "      <td>2/2/2021</td>\n",
       "      <td>9/15/2021 13:24</td>\n",
       "    </tr>\n",
       "    <tr>\n",
       "      <th>3</th>\n",
       "      <td>Joseph R. Biden Jr.</td>\n",
       "      <td>All polls</td>\n",
       "      <td>9/15/2021</td>\n",
       "      <td>1/28/2021</td>\n",
       "      <td>2/1/2021</td>\n",
       "      <td>AP-NORC</td>\n",
       "      <td>NaN</td>\n",
       "      <td>1055.0</td>\n",
       "      <td>a</td>\n",
       "      <td>1.427064</td>\n",
       "      <td>...</td>\n",
       "      <td>38.0</td>\n",
       "      <td>57.398180</td>\n",
       "      <td>38.411874</td>\n",
       "      <td>NaN</td>\n",
       "      <td>NaN</td>\n",
       "      <td>https://apnorc.org/wp-content/uploads/2021/02/...</td>\n",
       "      <td>74336</td>\n",
       "      <td>139629</td>\n",
       "      <td>2/4/2021</td>\n",
       "      <td>9/15/2021 13:24</td>\n",
       "    </tr>\n",
       "    <tr>\n",
       "      <th>4</th>\n",
       "      <td>Joseph R. Biden Jr.</td>\n",
       "      <td>All polls</td>\n",
       "      <td>9/15/2021</td>\n",
       "      <td>1/28/2021</td>\n",
       "      <td>2/1/2021</td>\n",
       "      <td>Rasmussen Reports/Pulse Opinion Research</td>\n",
       "      <td>B</td>\n",
       "      <td>1500.0</td>\n",
       "      <td>lv</td>\n",
       "      <td>0.565827</td>\n",
       "      <td>...</td>\n",
       "      <td>45.0</td>\n",
       "      <td>53.402310</td>\n",
       "      <td>39.062956</td>\n",
       "      <td>NaN</td>\n",
       "      <td>T</td>\n",
       "      <td>https://www.rasmussenreports.com/public_conten...</td>\n",
       "      <td>74325</td>\n",
       "      <td>139568</td>\n",
       "      <td>2/2/2021</td>\n",
       "      <td>9/15/2021 13:24</td>\n",
       "    </tr>\n",
       "  </tbody>\n",
       "</table>\n",
       "<p>5 rows × 22 columns</p>\n",
       "</div>"
      ],
      "text/plain": [
       "             president   subgroup  modeldate  startdate   enddate  \\\n",
       "0  Joseph R. Biden Jr.  All polls  9/15/2021  1/21/2021  2/2/2021   \n",
       "1  Joseph R. Biden Jr.  All polls  9/15/2021  1/28/2021  2/1/2021   \n",
       "2  Joseph R. Biden Jr.  All polls  9/15/2021  1/27/2021  2/1/2021   \n",
       "3  Joseph R. Biden Jr.  All polls  9/15/2021  1/28/2021  2/1/2021   \n",
       "4  Joseph R. Biden Jr.  All polls  9/15/2021  1/28/2021  2/1/2021   \n",
       "\n",
       "                                          pollster grade  samplesize  \\\n",
       "0                                           Gallup    B+       906.0   \n",
       "1                            Quinnipiac University    A-      1075.0   \n",
       "2  Global Strategy Group/GBAO (Navigator Research)   B/C      1005.0   \n",
       "3                                          AP-NORC   NaN      1055.0   \n",
       "4         Rasmussen Reports/Pulse Opinion Research     B      1500.0   \n",
       "\n",
       "  population    weight  ...  disapprove  adjusted_approve  \\\n",
       "0          a  1.314707  ...        37.0         56.394227   \n",
       "1          a  1.532490  ...        36.0         51.375610   \n",
       "2         rv  0.915957  ...        39.0         52.497920   \n",
       "3          a  1.427064  ...        38.0         57.398180   \n",
       "4         lv  0.565827  ...        45.0         53.402310   \n",
       "\n",
       "   adjusted_disapprove  multiversions  tracking  \\\n",
       "0            36.431592            NaN       NaN   \n",
       "1            35.903037            NaN       NaN   \n",
       "2            38.182669            NaN       NaN   \n",
       "3            38.411874            NaN       NaN   \n",
       "4            39.062956            NaN         T   \n",
       "\n",
       "                                                 url poll_id question_id  \\\n",
       "0  https://news.gallup.com/poll/329348/biden-begi...   74344      139651   \n",
       "1    https://poll.qu.edu/poll-release?releaseid=3766   74334      139617   \n",
       "2  https://navigatorresearch.org/wp-content/uploa...   74324      139564   \n",
       "3  https://apnorc.org/wp-content/uploads/2021/02/...   74336      139629   \n",
       "4  https://www.rasmussenreports.com/public_conten...   74325      139568   \n",
       "\n",
       "   createddate        timestamp  \n",
       "0     2/4/2021  9/15/2021 13:24  \n",
       "1     2/3/2021  9/15/2021 13:24  \n",
       "2     2/2/2021  9/15/2021 13:24  \n",
       "3     2/4/2021  9/15/2021 13:24  \n",
       "4     2/2/2021  9/15/2021 13:24  \n",
       "\n",
       "[5 rows x 22 columns]"
      ]
     },
     "execution_count": 3,
     "metadata": {},
     "output_type": "execute_result"
    }
   ],
   "source": [
    "biden.head()"
   ]
  },
  {
   "cell_type": "code",
   "execution_count": 4,
   "id": "838e93fa",
   "metadata": {},
   "outputs": [
    {
     "name": "stdout",
     "output_type": "stream",
     "text": [
      "<class 'pandas.core.frame.DataFrame'>\n",
      "RangeIndex: 1595 entries, 0 to 1594\n",
      "Data columns (total 22 columns):\n",
      " #   Column               Non-Null Count  Dtype  \n",
      "---  ------               --------------  -----  \n",
      " 0   president            1595 non-null   object \n",
      " 1   subgroup             1595 non-null   object \n",
      " 2   modeldate            1595 non-null   object \n",
      " 3   startdate            1595 non-null   object \n",
      " 4   enddate              1595 non-null   object \n",
      " 5   pollster             1595 non-null   object \n",
      " 6   grade                1541 non-null   object \n",
      " 7   samplesize           1587 non-null   float64\n",
      " 8   population           1595 non-null   object \n",
      " 9   weight               1595 non-null   float64\n",
      " 10  influence            1595 non-null   float64\n",
      " 11  approve              1595 non-null   float64\n",
      " 12  disapprove           1595 non-null   float64\n",
      " 13  adjusted_approve     1595 non-null   float64\n",
      " 14  adjusted_disapprove  1595 non-null   float64\n",
      " 15  multiversions        24 non-null     object \n",
      " 16  tracking             773 non-null    object \n",
      " 17  url                  1595 non-null   object \n",
      " 18  poll_id              1595 non-null   int64  \n",
      " 19  question_id          1595 non-null   int64  \n",
      " 20  createddate          1595 non-null   object \n",
      " 21  timestamp            1595 non-null   object \n",
      "dtypes: float64(7), int64(2), object(13)\n",
      "memory usage: 274.3+ KB\n"
     ]
    }
   ],
   "source": [
    "biden.info()"
   ]
  },
  {
   "cell_type": "code",
   "execution_count": 5,
   "id": "7bec5a2c",
   "metadata": {},
   "outputs": [],
   "source": [
    "biden.drop(columns=['subgroup', 'president', 'modeldate', 'multiversions', 'tracking', 'url', \n",
    "                 'poll_id', 'question_id', 'createddate', 'timestamp'], inplace=True)"
   ]
  },
  {
   "cell_type": "code",
   "execution_count": 6,
   "id": "77dfd927",
   "metadata": {},
   "outputs": [
    {
     "name": "stdout",
     "output_type": "stream",
     "text": [
      "<class 'pandas.core.frame.DataFrame'>\n",
      "RangeIndex: 1595 entries, 0 to 1594\n",
      "Data columns (total 12 columns):\n",
      " #   Column               Non-Null Count  Dtype  \n",
      "---  ------               --------------  -----  \n",
      " 0   startdate            1595 non-null   object \n",
      " 1   enddate              1595 non-null   object \n",
      " 2   pollster             1595 non-null   object \n",
      " 3   grade                1541 non-null   object \n",
      " 4   samplesize           1587 non-null   float64\n",
      " 5   population           1595 non-null   object \n",
      " 6   weight               1595 non-null   float64\n",
      " 7   influence            1595 non-null   float64\n",
      " 8   approve              1595 non-null   float64\n",
      " 9   disapprove           1595 non-null   float64\n",
      " 10  adjusted_approve     1595 non-null   float64\n",
      " 11  adjusted_disapprove  1595 non-null   float64\n",
      "dtypes: float64(7), object(5)\n",
      "memory usage: 149.7+ KB\n"
     ]
    }
   ],
   "source": [
    "biden.info()"
   ]
  },
  {
   "cell_type": "markdown",
   "id": "af44cce8",
   "metadata": {},
   "source": [
    "## Collecting Social Media Data"
   ]
  },
  {
   "cell_type": "markdown",
   "id": "759838b3",
   "metadata": {},
   "source": [
    "For this project, I will use data from Reddit. Because reddit is structured into various subreddits by interest, it is easy both to filter for political content and ensure better representation of a variety of viewpoints. I will collect data from six different subreddits: r/politics and r/news (the two largest general political subreddits), r/liberal and r/democrats (two of the largest left-leaning political subreddits) and r/conservative and r/libertarian (two of the largest right-leaning political subreddits)."
   ]
  },
  {
   "cell_type": "code",
   "execution_count": 7,
   "id": "df0b29e5",
   "metadata": {},
   "outputs": [],
   "source": [
    "api = PushshiftAPI()\n",
    "\n",
    "before = int(dt.datetime(2021,9,15,0,0).timestamp())\n",
    "after = int(dt.datetime(2021,1,20,0,0).timestamp())\n",
    "\n",
    "subs = ['politics', 'news', 'conservative', 'liberal', 'libertarian', 'democrats']"
   ]
  },
  {
   "cell_type": "code",
   "execution_count": 8,
   "id": "29881d56",
   "metadata": {},
   "outputs": [],
   "source": [
    "def get_data(subreddit):\n",
    "    limit = 100000\n",
    "    comments = api.search_comments(subreddit=subreddit, limit=limit, before=before, after=after)\n",
    "    df = pd.DataFrame(comments)\n",
    "    return df\n",
    "\n",
    "def combine_data(subs):\n",
    "    full_df = pd.DataFrame()\n",
    "    for sub in subs:\n",
    "        new_df = get_data(sub)\n",
    "        full_df = pd.concat([full_df, new_df])\n",
    "    return full_df"
   ]
  },
  {
   "cell_type": "code",
   "execution_count": 9,
   "id": "4a1f433e",
   "metadata": {},
   "outputs": [
    {
     "name": "stdout",
     "output_type": "stream",
     "text": [
      "Total:: Success Rate: 84.67% - Requests: 1194 - Batches: 120 - Items Remaining: 0\n",
      "Total:: Success Rate: 90.25% - Requests: 1118 - Batches: 112 - Items Remaining: 0\n",
      "Total:: Success Rate: 85.17% - Requests: 1187 - Batches: 119 - Items Remaining: 0\n",
      "69913 result(s) not found in Pushshift\n",
      "Total:: Success Rate: 77.23% - Requests: 470 - Batches: 47 - Items Remaining: 1\n",
      "1 result(s) not found in Pushshift\n",
      "Total:: Success Rate: 88.17% - Requests: 1150 - Batches: 115 - Items Remaining: 0\n",
      "Total:: Success Rate: 93.84% - Requests: 1201 - Batches: 121 - Items Remaining: 0\n"
     ]
    }
   ],
   "source": [
    "reddit = combine_data(subs)"
   ]
  },
  {
   "cell_type": "code",
   "execution_count": 12,
   "id": "7ff651d1",
   "metadata": {},
   "outputs": [
    {
     "name": "stdout",
     "output_type": "stream",
     "text": [
      "<class 'pandas.core.frame.DataFrame'>\n",
      "Int64Index: 530086 entries, 0 to 99999\n",
      "Data columns (total 50 columns):\n",
      " #   Column                           Non-Null Count   Dtype  \n",
      "---  ------                           --------------   -----  \n",
      " 0   all_awardings                    530086 non-null  object \n",
      " 1   associated_award                 0 non-null       object \n",
      " 2   author                           530086 non-null  object \n",
      " 3   author_flair_background_color    138693 non-null  object \n",
      " 4   author_flair_css_class           20339 non-null   object \n",
      " 5   author_flair_template_id         46511 non-null   object \n",
      " 6   author_flair_text                76278 non-null   object \n",
      " 7   author_flair_text_color          156693 non-null  object \n",
      " 8   awarders                         509693 non-null  object \n",
      " 9   body                             530086 non-null  object \n",
      " 10  collapsed_because_crowd_control  0 non-null       object \n",
      " 11  comment_type                     0 non-null       object \n",
      " 12  created_utc                      530086 non-null  int64  \n",
      " 13  gildings                         530086 non-null  object \n",
      " 14  id                               530086 non-null  object \n",
      " 15  is_submitter                     530086 non-null  bool   \n",
      " 16  link_id                          530086 non-null  object \n",
      " 17  locked                           530086 non-null  bool   \n",
      " 18  no_follow                        530086 non-null  bool   \n",
      " 19  parent_id                        530086 non-null  object \n",
      " 20  permalink                        530086 non-null  object \n",
      " 21  retrieved_on                     509693 non-null  float64\n",
      " 22  score                            530086 non-null  int64  \n",
      " 23  send_replies                     530086 non-null  bool   \n",
      " 24  stickied                         530086 non-null  bool   \n",
      " 25  subreddit                        530086 non-null  object \n",
      " 26  subreddit_id                     530086 non-null  object \n",
      " 27  top_awarded_type                 0 non-null       object \n",
      " 28  total_awards_received            530086 non-null  int64  \n",
      " 29  treatment_tags                   530086 non-null  object \n",
      " 30  author_flair_richtext            450181 non-null  object \n",
      " 31  author_flair_type                450181 non-null  object \n",
      " 32  author_fullname                  450181 non-null  object \n",
      " 33  author_patreon_flair             450181 non-null  object \n",
      " 34  author_premium                   450181 non-null  object \n",
      " 35  distinguished                    6451 non-null    object \n",
      " 36  author_cakeday                   1804 non-null    object \n",
      " 37  archived                         20393 non-null   object \n",
      " 38  body_sha1                        20393 non-null   object \n",
      " 39  can_gild                         20393 non-null   object \n",
      " 40  collapsed                        20393 non-null   object \n",
      " 41  collapsed_reason                 68 non-null      object \n",
      " 42  collapsed_reason_code            24031 non-null   object \n",
      " 43  controversiality                 20393 non-null   float64\n",
      " 44  gilded                           20393 non-null   float64\n",
      " 45  retrieved_utc                    20393 non-null   float64\n",
      " 46  score_hidden                     20393 non-null   object \n",
      " 47  subreddit_name_prefixed          20393 non-null   object \n",
      " 48  subreddit_type                   20393 non-null   object \n",
      " 49  edited                           144 non-null     float64\n",
      "dtypes: bool(5), float64(5), int64(3), object(37)\n",
      "memory usage: 188.6+ MB\n"
     ]
    }
   ],
   "source": [
    "reddit.info()"
   ]
  },
  {
   "cell_type": "code",
   "execution_count": 13,
   "id": "dd2c6823",
   "metadata": {},
   "outputs": [],
   "source": [
    "reddit.drop(columns = ['all_awardings', 'associated_award', 'author_flair_background_color', \n",
    "                        'author_flair_css_class', 'author_flair_template_id', 'author_flair_text', \n",
    "                        'author_flair_text_color', 'awarders', 'collapsed_because_crowd_control', \n",
    "                        'comment_type', 'gildings', 'id', 'is_submitter', 'link_id', 'locked', 'no_follow', 'parent_id', \n",
    "                        'retrieved_on', 'send_replies', 'stickied', 'subreddit_id', 'top_awarded_type', 'treatment_tags',\n",
    "                        'author_flair_richtext', 'author_flair_type', 'author_fullname', 'author_patreon_flair', \n",
    "                        'author_premium', 'distinguished', 'author_cakeday', 'collapsed_reason_code', \n",
    "                        'archived', 'body_sha1', 'can_gild', 'collapsed', 'collapsed_reason', 'controversiality', \n",
    "                        'gilded', 'retrieved_utc', 'score_hidden', 'subreddit_name_prefixed', 'subreddit_type', \n",
    "                        'edited'], inplace=True)\n",
    "\n",
    "reddit['created_utc'] = pd.to_datetime(reddit['created_utc'], unit='s')"
   ]
  },
  {
   "cell_type": "code",
   "execution_count": 14,
   "id": "48d17fd5",
   "metadata": {},
   "outputs": [
    {
     "name": "stdout",
     "output_type": "stream",
     "text": [
      "<class 'pandas.core.frame.DataFrame'>\n",
      "Int64Index: 530086 entries, 0 to 99999\n",
      "Data columns (total 7 columns):\n",
      " #   Column                 Non-Null Count   Dtype         \n",
      "---  ------                 --------------   -----         \n",
      " 0   author                 530086 non-null  object        \n",
      " 1   body                   530086 non-null  object        \n",
      " 2   created_utc            530086 non-null  datetime64[ns]\n",
      " 3   permalink              530086 non-null  object        \n",
      " 4   score                  530086 non-null  int64         \n",
      " 5   subreddit              530086 non-null  object        \n",
      " 6   total_awards_received  530086 non-null  int64         \n",
      "dtypes: datetime64[ns](1), int64(2), object(4)\n",
      "memory usage: 32.4+ MB\n"
     ]
    }
   ],
   "source": [
    "reddit.info()"
   ]
  },
  {
   "cell_type": "markdown",
   "id": "6bfe213d",
   "metadata": {},
   "source": [
    "## Sentiment Analysis"
   ]
  },
  {
   "cell_type": "markdown",
   "id": "96b70042",
   "metadata": {},
   "source": [
    "Finally, I will use TextBlob to generate sentiment scores for the data. "
   ]
  },
  {
   "cell_type": "code",
   "execution_count": 15,
   "id": "6c87f9bb",
   "metadata": {},
   "outputs": [],
   "source": [
    "reddit['body'] = reddit['body'].astype(str)\n",
    "\n",
    "def subjectivity(text):\n",
    "    return TextBlob(text).sentiment.subjectivity\n",
    "\n",
    "def polarity(text):\n",
    "    return TextBlob(text).sentiment.polarity\n",
    "\n",
    "reddit['Polarity'] = reddit['body'].apply(polarity)\n",
    "reddit['Subjectivity'] = reddit['body'].apply(subjectivity)"
   ]
  },
  {
   "cell_type": "code",
   "execution_count": 16,
   "id": "6949eff0",
   "metadata": {},
   "outputs": [],
   "source": [
    "def get_sentiment(score):\n",
    "    if score < 0:\n",
    "        return 'Negative'\n",
    "    elif score == 0:\n",
    "        return 'Neutral'\n",
    "    else: return 'Positive'\n",
    "    \n",
    "reddit['Sentiment'] = reddit['Polarity'].apply(get_sentiment)"
   ]
  },
  {
   "cell_type": "code",
   "execution_count": 17,
   "id": "fdf564e2",
   "metadata": {},
   "outputs": [
    {
     "name": "stdout",
     "output_type": "stream",
     "text": [
      "<class 'pandas.core.frame.DataFrame'>\n",
      "Int64Index: 530086 entries, 0 to 99999\n",
      "Data columns (total 10 columns):\n",
      " #   Column                 Non-Null Count   Dtype         \n",
      "---  ------                 --------------   -----         \n",
      " 0   author                 530086 non-null  object        \n",
      " 1   body                   530086 non-null  object        \n",
      " 2   created_utc            530086 non-null  datetime64[ns]\n",
      " 3   permalink              530086 non-null  object        \n",
      " 4   score                  530086 non-null  int64         \n",
      " 5   subreddit              530086 non-null  object        \n",
      " 6   total_awards_received  530086 non-null  int64         \n",
      " 7   Polarity               530086 non-null  float64       \n",
      " 8   Subjectivity           530086 non-null  float64       \n",
      " 9   Sentiment              530086 non-null  object        \n",
      "dtypes: datetime64[ns](1), float64(2), int64(2), object(5)\n",
      "memory usage: 44.5+ MB\n"
     ]
    }
   ],
   "source": [
    "reddit.info()"
   ]
  },
  {
   "cell_type": "code",
   "execution_count": 18,
   "id": "da36348d",
   "metadata": {},
   "outputs": [
    {
     "data": {
      "text/html": [
       "<div>\n",
       "<style scoped>\n",
       "    .dataframe tbody tr th:only-of-type {\n",
       "        vertical-align: middle;\n",
       "    }\n",
       "\n",
       "    .dataframe tbody tr th {\n",
       "        vertical-align: top;\n",
       "    }\n",
       "\n",
       "    .dataframe thead th {\n",
       "        text-align: right;\n",
       "    }\n",
       "</style>\n",
       "<table border=\"1\" class=\"dataframe\">\n",
       "  <thead>\n",
       "    <tr style=\"text-align: right;\">\n",
       "      <th></th>\n",
       "      <th>author</th>\n",
       "      <th>body</th>\n",
       "      <th>created_utc</th>\n",
       "      <th>permalink</th>\n",
       "      <th>score</th>\n",
       "      <th>subreddit</th>\n",
       "      <th>total_awards_received</th>\n",
       "      <th>Polarity</th>\n",
       "      <th>Subjectivity</th>\n",
       "      <th>Sentiment</th>\n",
       "    </tr>\n",
       "  </thead>\n",
       "  <tbody>\n",
       "    <tr>\n",
       "      <th>0</th>\n",
       "      <td>[deleted]</td>\n",
       "      <td>[removed]</td>\n",
       "      <td>2021-04-01 17:17:59</td>\n",
       "      <td>/r/politics/comments/mhmik7/ap_poll_finds_bide...</td>\n",
       "      <td>1</td>\n",
       "      <td>politics</td>\n",
       "      <td>0</td>\n",
       "      <td>0.000000</td>\n",
       "      <td>0.000000</td>\n",
       "      <td>Neutral</td>\n",
       "    </tr>\n",
       "    <tr>\n",
       "      <th>1</th>\n",
       "      <td>Flip2428</td>\n",
       "      <td>Growing up there I was always dumbfounded on h...</td>\n",
       "      <td>2021-04-01 17:17:58</td>\n",
       "      <td>/r/politics/comments/mhy1zm/new_mexico_is_set_...</td>\n",
       "      <td>1</td>\n",
       "      <td>politics</td>\n",
       "      <td>0</td>\n",
       "      <td>-0.051389</td>\n",
       "      <td>0.368056</td>\n",
       "      <td>Negative</td>\n",
       "    </tr>\n",
       "    <tr>\n",
       "      <th>2</th>\n",
       "      <td>boatpile</td>\n",
       "      <td>Gaetz didn't even say \"no age you can't be sex...</td>\n",
       "      <td>2021-04-01 17:17:58</td>\n",
       "      <td>/r/politics/comments/mhuv7u/theres_no_age_that...</td>\n",
       "      <td>1</td>\n",
       "      <td>politics</td>\n",
       "      <td>0</td>\n",
       "      <td>0.412500</td>\n",
       "      <td>0.820833</td>\n",
       "      <td>Positive</td>\n",
       "    </tr>\n",
       "    <tr>\n",
       "      <th>3</th>\n",
       "      <td>theombudsmen</td>\n",
       "      <td>I'm sure everyone knows this, but to clarify t...</td>\n",
       "      <td>2021-04-01 17:17:56</td>\n",
       "      <td>/r/politics/comments/mhzm4r/the_gop_rightly_fe...</td>\n",
       "      <td>1</td>\n",
       "      <td>politics</td>\n",
       "      <td>0</td>\n",
       "      <td>0.100000</td>\n",
       "      <td>0.853472</td>\n",
       "      <td>Positive</td>\n",
       "    </tr>\n",
       "    <tr>\n",
       "      <th>4</th>\n",
       "      <td>Tony_Chu</td>\n",
       "      <td>Hang up decorations with zip ties and cheer th...</td>\n",
       "      <td>2021-04-01 17:17:54</td>\n",
       "      <td>/r/politics/comments/mhulza/biden_must_clean_u...</td>\n",
       "      <td>1</td>\n",
       "      <td>politics</td>\n",
       "      <td>0</td>\n",
       "      <td>0.000000</td>\n",
       "      <td>0.000000</td>\n",
       "      <td>Neutral</td>\n",
       "    </tr>\n",
       "  </tbody>\n",
       "</table>\n",
       "</div>"
      ],
      "text/plain": [
       "         author                                               body  \\\n",
       "0     [deleted]                                          [removed]   \n",
       "1      Flip2428  Growing up there I was always dumbfounded on h...   \n",
       "2      boatpile  Gaetz didn't even say \"no age you can't be sex...   \n",
       "3  theombudsmen  I'm sure everyone knows this, but to clarify t...   \n",
       "4      Tony_Chu  Hang up decorations with zip ties and cheer th...   \n",
       "\n",
       "          created_utc                                          permalink  \\\n",
       "0 2021-04-01 17:17:59  /r/politics/comments/mhmik7/ap_poll_finds_bide...   \n",
       "1 2021-04-01 17:17:58  /r/politics/comments/mhy1zm/new_mexico_is_set_...   \n",
       "2 2021-04-01 17:17:58  /r/politics/comments/mhuv7u/theres_no_age_that...   \n",
       "3 2021-04-01 17:17:56  /r/politics/comments/mhzm4r/the_gop_rightly_fe...   \n",
       "4 2021-04-01 17:17:54  /r/politics/comments/mhulza/biden_must_clean_u...   \n",
       "\n",
       "   score subreddit  total_awards_received  Polarity  Subjectivity Sentiment  \n",
       "0      1  politics                      0  0.000000      0.000000   Neutral  \n",
       "1      1  politics                      0 -0.051389      0.368056  Negative  \n",
       "2      1  politics                      0  0.412500      0.820833  Positive  \n",
       "3      1  politics                      0  0.100000      0.853472  Positive  \n",
       "4      1  politics                      0  0.000000      0.000000   Neutral  "
      ]
     },
     "execution_count": 18,
     "metadata": {},
     "output_type": "execute_result"
    }
   ],
   "source": [
    "reddit.head()"
   ]
  },
  {
   "cell_type": "code",
   "execution_count": 19,
   "id": "abfab9c0",
   "metadata": {},
   "outputs": [],
   "source": [
    "reddit.to_csv('Data/reddit_data.csv')\n",
    "biden.to_csv('Data/approval_data.csv')"
   ]
  },
  {
   "cell_type": "code",
   "execution_count": null,
   "id": "3c4ef1cc",
   "metadata": {},
   "outputs": [],
   "source": []
  }
 ],
 "metadata": {
  "kernelspec": {
   "display_name": "Python 3",
   "language": "python",
   "name": "python3"
  },
  "language_info": {
   "codemirror_mode": {
    "name": "ipython",
    "version": 3
   },
   "file_extension": ".py",
   "mimetype": "text/x-python",
   "name": "python",
   "nbconvert_exporter": "python",
   "pygments_lexer": "ipython3",
   "version": "3.8.8"
  }
 },
 "nbformat": 4,
 "nbformat_minor": 5
}
